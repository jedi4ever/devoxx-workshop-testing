{
 "cells": [
  {
   "cell_type": "markdown",
   "metadata": {},
   "source": [
    "# Code refactoring\n",
    "## Introduction\n",
    "Most of our code work is not vanilla generation, but changing existing code."
   ]
  },
  {
   "cell_type": "markdown",
   "metadata": {},
   "source": [
    "## Installation"
   ]
  },
  {
   "cell_type": "code",
   "execution_count": 1,
   "metadata": {},
   "outputs": [
    {
     "name": "stdout",
     "output_type": "stream",
     "text": [
      "\n",
      "\u001b[1m[\u001b[0m\u001b[34;49mnotice\u001b[0m\u001b[1;39;49m]\u001b[0m\u001b[39;49m A new release of pip is available: \u001b[0m\u001b[31;49m25.0.1\u001b[0m\u001b[39;49m -> \u001b[0m\u001b[32;49m25.1.1\u001b[0m\n",
      "\u001b[1m[\u001b[0m\u001b[34;49mnotice\u001b[0m\u001b[1;39;49m]\u001b[0m\u001b[39;49m To update, run: \u001b[0m\u001b[32;49mpip install --upgrade pip\u001b[0m\n",
      "Note: you may need to restart the kernel to use updated packages.\n"
     ]
    }
   ],
   "source": [
    "%pip install -q openai\n",
    "# We import the library\n",
    "from openai import OpenAI\n",
    "\n",
    "# We instantiate an OpenAI client\n",
    "client = OpenAI()"
   ]
  },
  {
   "cell_type": "markdown",
   "metadata": {},
   "source": [
    "## Ask the LLM to refactor "
   ]
  },
  {
   "cell_type": "markdown",
   "metadata": {},
   "source": [
    "Let's have it write a Hello world in Javascript !"
   ]
  },
  {
   "cell_type": "code",
   "execution_count": 2,
   "metadata": {},
   "outputs": [
    {
     "name": "stdout",
     "output_type": "stream",
     "text": [
      "```javascript\n",
      "function myFunction() {\n",
      "    helloWorld(\"Hello, World!\");\n",
      "}\n",
      "\n",
      "function helloWorld(message) {\n",
      "    console.log(message);\n",
      "}\n",
      "```\n"
     ]
    }
   ],
   "source": [
    "model = \"gpt-4o-mini\"\n",
    "\n",
    "existing_code = \"\"\"\n",
    "// These functions help print the answers\n",
    "function my_function() {\n",
    "    helloWorld();\n",
    "}\n",
    "\n",
    "function helloWorld() {\n",
    "    console.log(\"Hello, World!\");\n",
    "}\n",
    "\"\"\"\n",
    "\n",
    "system_prompt = \"\"\"You are a really good javascript developer. You return code for refactoring. Please only return the code and nothing else. Do not add any comments or explanations. Do not add any extra text. Just return the code in a markdown block.\"\"\"\n",
    "\n",
    "question = \"make the function helloWorld take a variable and print that instead\"\n",
    "\n",
    "markdown_prompt = question + \". Only return markdown. Don't add any comments or explanations. Just the code. No other text. No other characters. No other symbols. No other lines. No other words. Just the code. Nothing else. Just the code. Nothing else. Just the code. Nothing else. Just the code. Nothing else. Just the code. Nothing else.\"\n",
    "\n",
    "# The question we're going to ask\n",
    "refactor_prompt =  \"\"\"Given the following piece of code:\n",
    "{existing_code}\n",
    "\n",
    "Please refactor it to make it better. The question is:\n",
    "{question}\n",
    "\"\"\"\n",
    "\n",
    "# Next we create the completion\n",
    "completion = client.chat.completions.create(model=model, temperature=0,\n",
    "    messages=[\n",
    "        { \"role\": \"system\", \"content\": system_prompt },\n",
    "        {  \"role\": \"user\", \"content\": refactor_prompt.format(\n",
    "            existing_code=existing_code,\n",
    "            question=question\n",
    "        )}\n",
    "    ]\n",
    ")\n",
    "\n",
    "refactor_result = completion.choices[0].message.content\n",
    "print(refactor_result)"
   ]
  },
  {
   "cell_type": "markdown",
   "metadata": {},
   "source": [
    "It left out the comments and also change the case of the functionName."
   ]
  },
  {
   "cell_type": "markdown",
   "metadata": {},
   "source": [
    "## Diff as an alternative format"
   ]
  },
  {
   "cell_type": "code",
   "execution_count": 3,
   "metadata": {},
   "outputs": [
    {
     "name": "stdout",
     "output_type": "stream",
     "text": [
      "```diff\n",
      "- function helloWorld() {\n",
      "-     console.log(\"Hello, World!\");\n",
      "+ function helloWorld(message) {\n",
      "+     console.log(message);\n",
      "}\n",
      "\n",
      "-     helloWorld();\n",
      "+     helloWorld(\"Hello, World!\");\n",
      "```\n"
     ]
    }
   ],
   "source": [
    "# The question we're going to ask\n",
    "diff_prompt =  \"\"\"Given the following piece of code:\n",
    "{existing_code}\n",
    "\n",
    "Please return the changes to the existing code as a diff. The question is:\n",
    "{question}\n",
    "\"\"\"\n",
    "\n",
    "# Next we create the completion\n",
    "completion = client.chat.completions.create(model=model, temperature=0,\n",
    "    messages=[\n",
    "        { \"role\": \"system\", \"content\": system_prompt },\n",
    "        {  \"role\": \"user\", \"content\": diff_prompt.format(\n",
    "            existing_code=existing_code,\n",
    "            question=question\n",
    "        )}\n",
    "    ]\n",
    ")\n",
    "\n",
    "refactor_result = completion.choices[0].message.content\n",
    "print(refactor_result)"
   ]
  }
 ],
 "metadata": {
  "kernelspec": {
   "display_name": "Python 3",
   "language": "python",
   "name": "python3"
  },
  "language_info": {
   "codemirror_mode": {
    "name": "ipython",
    "version": 3
   },
   "file_extension": ".py",
   "mimetype": "text/x-python",
   "name": "python",
   "nbconvert_exporter": "python",
   "pygments_lexer": "ipython3",
   "version": "3.12.10"
  }
 },
 "nbformat": 4,
 "nbformat_minor": 2
}
