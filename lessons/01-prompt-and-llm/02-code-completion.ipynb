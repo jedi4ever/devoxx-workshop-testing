{
 "cells": [
  {
   "cell_type": "markdown",
   "id": "47f8a679",
   "metadata": {},
   "source": [
    "# Code completion\n",
    "## Introduction\n",
    "- Now let's have a look at models specifically build to generate code.\n",
    "\n",
    "Inspired by : <https://harishgarg.com/writing/openai-codex-guide/#Using_Codex_via_OpenAI_API>"
   ]
  },
  {
   "cell_type": "markdown",
   "id": "c935b524",
   "metadata": {},
   "source": [
    "## Installation"
   ]
  },
  {
   "cell_type": "code",
   "execution_count": 13,
   "id": "cdb39501",
   "metadata": {},
   "outputs": [
    {
     "name": "stdout",
     "output_type": "stream",
     "text": [
      "Note: you may need to restart the kernel to use updated packages.\n"
     ]
    }
   ],
   "source": [
    "%pip install -q  openai\n",
    "\n",
    "# We import the library\n",
    "from openai import OpenAI\n",
    "\n",
    "# We instantiate an OpenAI client\n",
    "client = OpenAI()"
   ]
  },
  {
   "cell_type": "markdown",
   "id": "af337a05",
   "metadata": {},
   "source": [
    "## Completion Model\n",
    "- To complete code we use an instruct model.\n",
    "- It will append the code to the piece we already have."
   ]
  },
  {
   "cell_type": "code",
   "execution_count": 14,
   "id": "ffd71a49",
   "metadata": {},
   "outputs": [],
   "source": [
    "# We select one of the code completion models\n",
    "# vs model = \"gpt-4o-mini\" is a chat completion model\n",
    "\n",
    "# is deprecated - https://platform.openai.com/docs/deprecations\n",
    "# model=\"code-davinci-002\"\n",
    "model = \"gpt-3.5-turbo-instruct\""
   ]
  },
  {
   "cell_type": "markdown",
   "id": "983a3abd",
   "metadata": {},
   "source": [
    "## Ask for completion"
   ]
  },
  {
   "cell_type": "code",
   "execution_count": 15,
   "id": "ca996c46",
   "metadata": {},
   "outputs": [
    {
     "name": "stdout",
     "output_type": "stream",
     "text": [
      "Existing code:\n",
      "// A function that says hello world in Javascript\n",
      "--------------------\n",
      "Code Completion:\n",
      "\n",
      "function sayHello() {\n",
      "  console.log(\"Hello, world!\");\n",
      "}\n",
      "\n",
      "say\n",
      "====================\n"
     ]
    }
   ],
   "source": [
    "# The code we want it to complete\n",
    "existing_code = \"// A function that says hello world in Javascript\"\n",
    "\n",
    "# Next we create the completion\n",
    "completion = client.completions.create(model=model, temperature=0, \n",
    "    prompt=existing_code,\n",
    "#    max_tokens=100, # Defaults to 16\n",
    ")\n",
    "# We extract the code from the completion\n",
    "code_completion = completion.choices[0].text\n",
    "# And finally we print the result\n",
    "print(f\"Existing code:\\n{existing_code}\")\n",
    "print(20*\"-\")\n",
    "print(f\"Code Completion:\\n{code_completion}\")\n",
    "print(20*\"=\")"
   ]
  },
  {
   "cell_type": "markdown",
   "id": "7ffbb1d2",
   "metadata": {},
   "source": [
    "## Expand the completion"
   ]
  },
  {
   "cell_type": "code",
   "execution_count": 16,
   "id": "8abded81",
   "metadata": {},
   "outputs": [
    {
     "name": "stdout",
     "output_type": "stream",
     "text": [
      "Existing code:\n",
      "// A function that says hello world in Javascript\n",
      "--------------------\n",
      "Code Completion:\n",
      "\n",
      "function sayHello() {\n",
      "  console.log(\"Hello, world!\");\n",
      "}\n",
      "\n",
      "sayHello(); // calling the function\n",
      "\n",
      "====================\n"
     ]
    }
   ],
   "source": [
    "# The code we want it to complete\n",
    "existing_code = \"// A function that says hello world in Javascript\"\n",
    "\n",
    "# Next we create the completion\n",
    "completion = client.completions.create(model=model, temperature=0, \n",
    "    prompt=existing_code,\n",
    "    max_tokens=200, # Defaults to 16\n",
    ")\n",
    "# We extract the code from the completion\n",
    "code_completion = completion.choices[0].text\n",
    "# And finally we print the result\n",
    "print(f\"Existing code:\\n{existing_code}\")\n",
    "print(20*\"-\")\n",
    "print(f\"Code Completion:\\n{code_completion}\")\n",
    "print(20*\"=\")"
   ]
  },
  {
   "cell_type": "markdown",
   "id": "6345add8",
   "metadata": {},
   "source": [
    "## Code fill in the middle\n",
    "- In addition to just completing code, it can also do Fill In the Middle (FIM)\n",
    "- We pass the suffix as a separate option"
   ]
  },
  {
   "cell_type": "code",
   "execution_count": 17,
   "id": "fca48248",
   "metadata": {},
   "outputs": [
    {
     "name": "stdout",
     "output_type": "stream",
     "text": [
      "\n",
      "    var arr = [1, 3, 2, 5, 4];\n",
      "    arr.sort();\n",
      "    console.log(arr);\n",
      "\n"
     ]
    }
   ],
   "source": [
    "# Next we create the Fill In the Middle\n",
    "prompt=\"\"\"// A function that sort an array in Javascript\n",
    "function sort_array() {\"\"\"\n",
    "\n",
    "suffix = \"}\"\n",
    "# Next we create the completion\n",
    "completion = client.completions.create(  model=model, temperature=0,\n",
    "    prompt=prompt,\n",
    "    suffix=suffix,\n",
    "    max_tokens=200, # Defaults to 16\n",
    ")\n",
    "\n",
    "fill_in_the_middle = completion.choices[0].text\n",
    "# And finally we print the result\n",
    "print(fill_in_the_middle)"
   ]
  },
  {
   "cell_type": "code",
   "execution_count": 19,
   "id": "7171cbbb",
   "metadata": {},
   "outputs": [
    {
     "name": "stdout",
     "output_type": "stream",
     "text": [
      "\n",
      "    return my_array.sort();\n",
      "\n"
     ]
    }
   ],
   "source": [
    "# Another example\n",
    "prompt=\"\"\"// A function that sort an array in Javascript\n",
    "function sort_array(my_array) {\"\"\"\n",
    "\n",
    "suffix = \"}\"\n",
    "# Next we create the completion\n",
    "completion = client.completions.create(  model=model, temperature=0,\n",
    "    prompt=prompt,\n",
    "    suffix=suffix,\n",
    "    max_tokens=200, # Defaults to 16\n",
    ")\n",
    "\n",
    "fill_in_the_middle = completion.choices[0].text\n",
    "# And finally we print the result\n",
    "print(fill_in_the_middle)"
   ]
  }
 ],
 "metadata": {
  "kernelspec": {
   "display_name": ".venv",
   "language": "python",
   "name": "python3"
  },
  "language_info": {
   "codemirror_mode": {
    "name": "ipython",
    "version": 3
   },
   "file_extension": ".py",
   "mimetype": "text/x-python",
   "name": "python",
   "nbconvert_exporter": "python",
   "pygments_lexer": "ipython3",
   "version": "3.13.0"
  }
 },
 "nbformat": 4,
 "nbformat_minor": 5
}
