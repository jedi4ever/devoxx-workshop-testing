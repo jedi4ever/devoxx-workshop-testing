{
 "cells": [
  {
   "cell_type": "markdown",
   "metadata": {},
   "source": [
    "# Chat Code Generation\n",
    "## Introduction\n",
    "We ask the LLM to generate the code we want."
   ]
  },
  {
   "cell_type": "markdown",
   "metadata": {},
   "source": [
    "## Installation\n",
    "OpenAI has an SDK to call their model. Let's install it the python SDK first."
   ]
  },
  {
   "cell_type": "code",
   "execution_count": 1,
   "metadata": {},
   "outputs": [
    {
     "name": "stdout",
     "output_type": "stream",
     "text": [
      "\n",
      "\u001b[1m[\u001b[0m\u001b[34;49mnotice\u001b[0m\u001b[1;39;49m]\u001b[0m\u001b[39;49m A new release of pip is available: \u001b[0m\u001b[31;49m25.0.1\u001b[0m\u001b[39;49m -> \u001b[0m\u001b[32;49m25.1.1\u001b[0m\n",
      "\u001b[1m[\u001b[0m\u001b[34;49mnotice\u001b[0m\u001b[1;39;49m]\u001b[0m\u001b[39;49m To update, run: \u001b[0m\u001b[32;49mpip install --upgrade pip\u001b[0m\n",
      "Note: you may need to restart the kernel to use updated packages.\n"
     ]
    }
   ],
   "source": [
    "%pip install -q openai"
   ]
  },
  {
   "cell_type": "markdown",
   "metadata": {},
   "source": [
    "## Simple example using the SDK \n",
    "\n",
    "Now we use the api to do a simple api call and get the result back.\n",
    "\n",
    "The result is called a `completion` as llms are in essence auto-completion systems on steriods."
   ]
  },
  {
   "cell_type": "markdown",
   "metadata": {},
   "source": [
    "Let's have it write a Hello world in Javascript !"
   ]
  },
  {
   "cell_type": "code",
   "execution_count": 2,
   "metadata": {},
   "outputs": [
    {
     "name": "stdout",
     "output_type": "stream",
     "text": [
      "Certainly! A simple \"Hello, World!\" program in JavaScript can be written in a few different contexts, such as in an HTML file or in a Node.js environment. Below are examples of both:\n",
      "\n",
      "### 1. HTML File with JavaScript\n",
      "\n",
      "You can create an HTML file that contains JavaScript to display \"Hello, World!\" in the browser:\n",
      "\n",
      "```html\n",
      "<!DOCTYPE html>\n",
      "<html lang=\"en\">\n",
      "<head>\n",
      "    <meta charset=\"UTF-8\">\n",
      "    <meta name=\"viewport\" content=\"width=device-width, initial-scale=1.0\">\n",
      "    <title>Hello World</title>\n",
      "</head>\n",
      "<body>\n",
      "    <h1>Hello, World!</h1>\n",
      "\n",
      "    <script>\n",
      "        // JavaScript code to display an alert\n",
      "        alert(\"Hello, World!\");\n",
      "    </script>\n",
      "</body>\n",
      "</html>\n",
      "```\n",
      "\n",
      "### 2. Node.js Environment\n",
      "\n",
      "If you want to run a \"Hello, World!\" program in a Node.js environment, you can create a simple JavaScript file (e.g., `hello.js`):\n",
      "\n",
      "```javascript\n",
      "// hello.js\n",
      "console.log(\"Hello, World!\");\n",
      "```\n",
      "\n",
      "To run this file, you would open your terminal, navigate to the directory where `hello.js` is located, and execute the command:\n",
      "\n",
      "```bash\n",
      "node hello.js\n",
      "```\n",
      "\n",
      "Both of these methods will display \"Hello, World!\" in their respective environments.\n"
     ]
    }
   ],
   "source": [
    "# We import the library\n",
    "from openai import OpenAI\n",
    "\n",
    "# We instantiate an OpenAI client\n",
    "client = OpenAI()\n",
    "\n",
    "# We select one of the models\n",
    "# gpt_model = \"gpt-3.5-turbo\"\n",
    "# gpt_model = \"gpt-4o\"\n",
    "# gpt_model = \"gpt-4o-turbo\"\n",
    "model = \"gpt-4o-mini\"\n",
    "\n",
    "# The question we're going to ask\n",
    "question =  \"Write me a javascript hello world program\"\n",
    "\n",
    "# Next we create the completion\n",
    "completion = client.chat.completions.create(model=model,\n",
    "    messages=[\n",
    "        {  \"role\": \"user\", \"content\": question}\n",
    "    ]\n",
    ")\n",
    "\n",
    "answer = completion.choices[0].message.content\n",
    "print(answer)"
   ]
  },
  {
   "cell_type": "markdown",
   "metadata": {},
   "source": [
    "## System Prompt"
   ]
  },
  {
   "cell_type": "code",
   "execution_count": 3,
   "metadata": {},
   "outputs": [
    {
     "name": "stdout",
     "output_type": "stream",
     "text": [
      "Sure! Here's a simple JavaScript function that prints \"Hello, World!\" to the console:\n",
      "\n",
      "```javascript\n",
      "function helloWorld() {\n",
      "    console.log(\"Hello, World!\");\n",
      "}\n",
      "\n",
      "// Call the function\n",
      "helloWorld();\n",
      "```\n",
      "\n",
      "You can run this code in any JavaScript environment, such as a web browser's developer console or a Node.js environment.\n"
     ]
    }
   ],
   "source": [
    "# The question we're going to ask\n",
    "question =  \"Write me a javascript hello world function.\"\n",
    "\n",
    "# We tell it t return code snippet\n",
    "system_prompt = \"You are very experienced Javascript developer. You are really good at returning code snippets. You always make sure they have no syntax errors.\"\n",
    "\n",
    "# Next we create the completion\n",
    "completion = client.chat.completions.create( model=model,\n",
    "    messages=[\n",
    "        {\"role\": \"system\", \"content\": system_prompt },\n",
    "        { \"role\": \"user\", \"content\": question},\n",
    "    ]\n",
    ")\n",
    "\n",
    "answer = completion.choices[0].message.content\n",
    "print(answer)"
   ]
  },
  {
   "cell_type": "markdown",
   "metadata": {},
   "source": [
    "## Run it a few times"
   ]
  },
  {
   "cell_type": "code",
   "execution_count": 4,
   "metadata": {},
   "outputs": [
    {
     "name": "stdout",
     "output_type": "stream",
     "text": [
      "Here’s a simple JavaScript function that prints \"Hello, World!\" to the console:\n",
      "\n",
      "```javascript\n",
      "function sayHello() {\n",
      "    console.log(\"Hello, World!\");\n",
      "}\n",
      "\n",
      "// Call the function\n",
      "sayHello();\n",
      "```\n",
      "\n",
      "You can copy and paste this code into a JavaScript environment (like a web browser console or Node.js) to see it in action!\n",
      "====================\n",
      "Certainly! Here’s a simple JavaScript function that outputs \"Hello, World!\" to the console:\n",
      "\n",
      "```javascript\n",
      "function helloWorld() {\n",
      "    console.log(\"Hello, World!\");\n",
      "}\n",
      "\n",
      "// Call the function\n",
      "helloWorld();\n",
      "```\n",
      "\n",
      "You can run this code in any JavaScript environment, such as a web browser's console or Node.js.\n",
      "====================\n",
      "Sure! Here's a simple JavaScript function that prints \"Hello, World!\" to the console:\n",
      "\n",
      "```javascript\n",
      "function sayHello() {\n",
      "    console.log(\"Hello, World!\");\n",
      "}\n",
      "\n",
      "// Call the function to see the output\n",
      "sayHello();\n",
      "```\n",
      "\n",
      "You can run this code in a browser's developer console or in a Node.js environment.\n",
      "====================\n",
      "Certainly! Here's a simple JavaScript function that prints \"Hello, World!\" to the console:\n",
      "\n",
      "```javascript\n",
      "function sayHello() {\n",
      "    console.log(\"Hello, World!\");\n",
      "}\n",
      "\n",
      "// Call the function\n",
      "sayHello();\n",
      "```\n",
      "\n",
      "You can run this code in any JavaScript environment, such as a browser console or Node.js. When executed, it will display \"Hello, World!\" in the console.\n",
      "====================\n"
     ]
    }
   ],
   "source": [
    "# Next we create the completion\n",
    "for i in range(4):\n",
    "    completion = client.chat.completions.create(\n",
    "        model=model,\n",
    "        messages=[\n",
    "            { \"role\": \"system\", \"content\": system_prompt},\n",
    "            { \"role\": \"user\", \"content\": question},\n",
    "        ]\n",
    "    )\n",
    "\n",
    "    answer = completion.choices[0].message.content\n",
    "    print(answer)\n",
    "    print(20*\"=\")"
   ]
  },
  {
   "cell_type": "markdown",
   "metadata": {},
   "source": [
    "## Set temperature"
   ]
  },
  {
   "cell_type": "code",
   "execution_count": 5,
   "metadata": {},
   "outputs": [
    {
     "name": "stdout",
     "output_type": "stream",
     "text": [
      "====================\n",
      "Certainly! Here’s a simple JavaScript function that prints \"Hello, World!\" to the console:\n",
      "\n",
      "```javascript\n",
      "function sayHello() {\n",
      "    console.log(\"Hello, World!\");\n",
      "}\n",
      "\n",
      "// Call the function\n",
      "sayHello();\n",
      "```\n",
      "\n",
      "You can run this code in any JavaScript environment, such as a web browser's console or a Node.js environment.\n",
      "====================\n",
      "Certainly! Here’s a simple JavaScript function that prints \"Hello, World!\" to the console:\n",
      "\n",
      "```javascript\n",
      "function sayHello() {\n",
      "    console.log(\"Hello, World!\");\n",
      "}\n",
      "\n",
      "// Call the function\n",
      "sayHello();\n",
      "```\n",
      "\n",
      "You can run this code in any JavaScript environment, such as a web browser's console or a Node.js environment.\n",
      "====================\n",
      "Certainly! Here’s a simple JavaScript function that prints \"Hello, World!\" to the console:\n",
      "\n",
      "```javascript\n",
      "function sayHello() {\n",
      "    console.log(\"Hello, World!\");\n",
      "}\n",
      "\n",
      "// Call the function\n",
      "sayHello();\n",
      "```\n",
      "\n",
      "You can run this code in any JavaScript environment, such as a web browser's console or a Node.js environment.\n",
      "====================\n",
      "Certainly! Here’s a simple JavaScript function that prints \"Hello, World!\" to the console:\n",
      "\n",
      "```javascript\n",
      "function sayHello() {\n",
      "    console.log(\"Hello, World!\");\n",
      "}\n",
      "\n",
      "// Call the function\n",
      "sayHello();\n",
      "```\n",
      "\n",
      "You can run this code in any JavaScript environment, such as a web browser's console or a Node.js environment.\n"
     ]
    }
   ],
   "source": [
    "# We run it 4 times\n",
    "for i in range(4):\n",
    "    completion = client.chat.completions.create(model=model,\n",
    "        temperature=0, # We set the temperature to 0\n",
    "        messages=[\n",
    "            { \"role\": \"system\", \"content\": system_prompt},\n",
    "            { \"role\": \"user\", \"content\": question },\n",
    "        ]\n",
    "    )\n",
    "    \n",
    "    print(20*\"=\")\n",
    "\n",
    "    answer = completion.choices[0].message.content\n",
    "    print(answer)"
   ]
  },
  {
   "cell_type": "markdown",
   "metadata": {},
   "source": [
    "## Only the markdown please"
   ]
  },
  {
   "cell_type": "code",
   "execution_count": 6,
   "metadata": {},
   "outputs": [
    {
     "name": "stdout",
     "output_type": "stream",
     "text": [
      "```javascript\n",
      "function helloWorld() {\n",
      "    console.log(\"Hello, World!\");\n",
      "}\n",
      "```\n"
     ]
    }
   ],
   "source": [
    "# We add instruction to have it only return the code in markdown\n",
    "markdown_prompt = question + \". Only return markdown. Don't add any comments or explanations. Just the code. No other text. No other characters. No other symbols. No other lines. No other words. Just the code. Nothing else. Just the code. Nothing else. Just the code. Nothing else. Just the code. Nothing else. Just the code. Nothing else.\"\n",
    "\n",
    "# Next we create the completion\n",
    "completion = client.chat.completions.create(model=model,temperature=0,\n",
    "    messages=[\n",
    "        {\"role\": \"system\", \"content\": system_prompt},\n",
    "        {\"role\": \"user\",\"content\": markdown_prompt }\n",
    "    ]\n",
    ")\n",
    "\n",
    "answer = completion.choices[0].message.content\n",
    "print(answer)"
   ]
  }
 ],
 "metadata": {
  "kernelspec": {
   "display_name": "Python 3",
   "language": "python",
   "name": "python3"
  },
  "language_info": {
   "codemirror_mode": {
    "name": "ipython",
    "version": 3
   },
   "file_extension": ".py",
   "mimetype": "text/x-python",
   "name": "python",
   "nbconvert_exporter": "python",
   "pygments_lexer": "ipython3",
   "version": "3.12.10"
  }
 },
 "nbformat": 4,
 "nbformat_minor": 2
}
