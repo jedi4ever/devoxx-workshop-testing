{
 "cells": [
  {
   "cell_type": "markdown",
   "metadata": {},
   "source": [
    "# Chat Code Generation\n",
    "## Introduction\n",
    "We ask the LLM to generate the code we want."
   ]
  },
  {
   "cell_type": "markdown",
   "metadata": {},
   "source": [
    "## Installation\n",
    "OpenAI has an SDK to call their model. Let's install it the python SDK first."
   ]
  },
  {
   "cell_type": "code",
   "execution_count": 23,
   "metadata": {},
   "outputs": [
    {
     "name": "stdout",
     "output_type": "stream",
     "text": [
      "Note: you may need to restart the kernel to use updated packages.\n"
     ]
    }
   ],
   "source": [
    "%pip install -q openai"
   ]
  },
  {
   "cell_type": "markdown",
   "metadata": {},
   "source": [
    "## Simple example using the SDK \n",
    "\n",
    "Now we use the api to do a simple api call and get the result back.\n",
    "\n",
    "The result is called a `completion` as llms are in essence auto-completion systems on steriods."
   ]
  },
  {
   "cell_type": "markdown",
   "metadata": {},
   "source": [
    "Let's have it write a Hello world in Javascript !"
   ]
  },
  {
   "cell_type": "code",
   "execution_count": 24,
   "metadata": {},
   "outputs": [
    {
     "name": "stdout",
     "output_type": "stream",
     "text": [
      "Certainly! Here's a simple \"Hello, World!\" program written in JavaScript:\n",
      "\n",
      "```javascript\n",
      "// This is a simple JavaScript Hello World program\n",
      "console.log(\"Hello, World!\");\n",
      "```\n",
      "\n",
      "To run this code, you can either use a web browser's developer console or a Node.js environment. Here's how you can execute it in both environments:\n",
      "\n",
      "### In a Web Browser:\n",
      "1. Open your web browser (like Chrome, Firefox, or Edge).\n",
      "2. Right-click on the page and select \"Inspect\" or press `Ctrl + Shift + I` (or `Cmd + Option + I` on Mac) to open the Developer Tools.\n",
      "3. Click on the \"Console\" tab.\n",
      "4. Copy and paste the code above into the console and press `Enter`.\n",
      "\n",
      "### In Node.js:\n",
      "1. Install Node.js from [nodejs.org](https://nodejs.org/) if you haven't already.\n",
      "2. Create a new file named `hello.js` and add the code above.\n",
      "3. Open your terminal/command prompt and navigate to the directory where `hello.js` is saved.\n",
      "4. Run the command:\n",
      "   ```bash\n",
      "   node hello.js\n",
      "   ```\n",
      "\n",
      "You should see \"Hello, World!\" printed in the console in both cases.\n"
     ]
    }
   ],
   "source": [
    "# We import the library\n",
    "from openai import OpenAI\n",
    "\n",
    "# We instantiate an OpenAI client\n",
    "client = OpenAI()\n",
    "\n",
    "# We select one of the models\n",
    "# gpt_model = \"gpt-3.5-turbo\"\n",
    "# gpt_model = \"gpt-4o\"\n",
    "# gpt_model = \"gpt-4o-turbo\"\n",
    "model = \"gpt-4o-mini\"\n",
    "\n",
    "# The question we're going to ask\n",
    "question =  \"Write me a javascript hello world program\"\n",
    "\n",
    "# Next we create the completion\n",
    "completion = client.chat.completions.create(model=model,\n",
    "    messages=[\n",
    "        {  \"role\": \"user\", \"content\": question}\n",
    "    ]\n",
    ")\n",
    "\n",
    "answer = completion.choices[0].message.content\n",
    "print(answer)"
   ]
  },
  {
   "cell_type": "markdown",
   "metadata": {},
   "source": [
    "## System Prompt"
   ]
  },
  {
   "cell_type": "code",
   "execution_count": null,
   "metadata": {},
   "outputs": [
    {
     "name": "stdout",
     "output_type": "stream",
     "text": [
      "Certainly! Here’s a simple JavaScript function that prints \"Hello, World!\" to the console:\n",
      "\n",
      "```javascript\n",
      "function sayHello() {\n",
      "    console.log(\"Hello, World!\");\n",
      "}\n",
      "\n",
      "// Call the function\n",
      "sayHello();\n",
      "```\n",
      "\n",
      "You can run this code in the browser's developer console or in a Node.js environment to see the output.\n"
     ]
    }
   ],
   "source": [
    "# The question we're going to ask\n",
    "question =  \"Write me a javascript hello world function.\"\n",
    "\n",
    "# We tell it t return code snippet\n",
    "system_prompt = \"You are very experienced Javascript developer. You are really good at returning code snippets. You always make sure they have no syntax errors.\"\n",
    "\n",
    "# Next we create the completion\n",
    "completion = client.chat.completions.create( model=model,\n",
    "    messages=[\n",
    "        {\"role\": \"system\", \"content\": system_prompt },\n",
    "        { \"role\": \"user\", \"content\": question},\n",
    "    ]\n",
    ")\n",
    "\n",
    "answer = completion.choices[0].message.content\n",
    "print(answer)"
   ]
  },
  {
   "cell_type": "markdown",
   "metadata": {},
   "source": [
    "## Run it a few times"
   ]
  },
  {
   "cell_type": "code",
   "execution_count": null,
   "metadata": {},
   "outputs": [
    {
     "name": "stdout",
     "output_type": "stream",
     "text": [
      "Certainly! Here's a simple JavaScript function that prints \"Hello, World!\" to the console:\n",
      "\n",
      "```javascript\n",
      "function helloWorld() {\n",
      "    console.log(\"Hello, World!\");\n",
      "}\n",
      "\n",
      "// Call the function to execute it\n",
      "helloWorld();\n",
      "```\n",
      "\n",
      "You can run this code in any JavaScript environment, such as a web browser console or a Node.js environment.\n",
      "====================\n",
      "Certainly! Here’s a simple JavaScript function that prints \"Hello, World!\" to the console:\n",
      "\n",
      "```javascript\n",
      "function helloWorld() {\n",
      "    console.log(\"Hello, World!\");\n",
      "}\n",
      "\n",
      "// Call the function to see the output\n",
      "helloWorld();\n",
      "```\n",
      "\n",
      "You can run this code in a JavaScript environment such as a browser console or a Node.js environment.\n",
      "====================\n",
      "Certainly! Here’s a simple JavaScript function that prints \"Hello, World!\" to the console:\n",
      "\n",
      "```javascript\n",
      "function sayHello() {\n",
      "    console.log(\"Hello, World!\");\n",
      "}\n",
      "\n",
      "// Call the function to see the output\n",
      "sayHello();\n",
      "```\n",
      "\n",
      "You can run this code in a JavaScript environment, such as a web browser console or a Node.js environment, to see the output.\n",
      "====================\n",
      "Certainly! Here's a simple JavaScript function that outputs \"Hello, World!\" to the console:\n",
      "\n",
      "```javascript\n",
      "function sayHello() {\n",
      "    console.log(\"Hello, World!\");\n",
      "}\n",
      "\n",
      "// Call the function\n",
      "sayHello();\n",
      "```\n",
      "\n",
      "You can run this code in any JavaScript environment, such as a web browser's console or Node.js.\n",
      "====================\n"
     ]
    }
   ],
   "source": [
    "# Next we create the completion\n",
    "for i in range(4):\n",
    "    completion = client.chat.completions.create(\n",
    "        model=model,\n",
    "        messages=[\n",
    "            { \"role\": \"system\", \"content\": system_prompt},\n",
    "            { \"role\": \"user\", \"content\": question},\n",
    "        ]\n",
    "    )\n",
    "\n",
    "    answer = completion.choices[0].message.content\n",
    "    print(answer)\n",
    "    print(20*\"=\")"
   ]
  },
  {
   "cell_type": "markdown",
   "metadata": {},
   "source": [
    "## Set temperature"
   ]
  },
  {
   "cell_type": "code",
   "execution_count": null,
   "metadata": {},
   "outputs": [
    {
     "name": "stdout",
     "output_type": "stream",
     "text": [
      "====================\n",
      "Certainly! Here’s a simple JavaScript function that prints \"Hello, World!\" to the console:\n",
      "\n",
      "```javascript\n",
      "function sayHello() {\n",
      "    console.log(\"Hello, World!\");\n",
      "}\n",
      "\n",
      "// Call the function\n",
      "sayHello();\n",
      "```\n",
      "\n",
      "You can run this code in any JavaScript environment, such as a web browser's console or a Node.js environment.\n",
      "====================\n",
      "Certainly! Here’s a simple JavaScript function that prints \"Hello, World!\" to the console:\n",
      "\n",
      "```javascript\n",
      "function sayHello() {\n",
      "    console.log(\"Hello, World!\");\n",
      "}\n",
      "\n",
      "// Call the function\n",
      "sayHello();\n",
      "```\n",
      "\n",
      "You can run this code in any JavaScript environment, such as a web browser's console or a Node.js environment.\n",
      "====================\n",
      "Certainly! Here’s a simple JavaScript function that prints \"Hello, World!\" to the console:\n",
      "\n",
      "```javascript\n",
      "function sayHello() {\n",
      "    console.log(\"Hello, World!\");\n",
      "}\n",
      "\n",
      "// Call the function\n",
      "sayHello();\n",
      "```\n",
      "\n",
      "You can run this code in any JavaScript environment, such as a web browser's console or a Node.js environment.\n",
      "====================\n",
      "Certainly! Here’s a simple JavaScript function that prints \"Hello, World!\" to the console:\n",
      "\n",
      "```javascript\n",
      "function sayHello() {\n",
      "    console.log(\"Hello, World!\");\n",
      "}\n",
      "\n",
      "// Call the function\n",
      "sayHello();\n",
      "```\n",
      "\n",
      "You can run this code in any JavaScript environment, such as a web browser's console or a Node.js environment.\n"
     ]
    }
   ],
   "source": [
    "# We run it 4 times\n",
    "for i in range(4):\n",
    "    completion = client.chat.completions.create(model=model,\n",
    "        temperature=0, # We set the temperature to 0\n",
    "        messages=[\n",
    "            { \"role\": \"system\", \"content\": system_prompt},\n",
    "            { \"role\": \"user\", \"content\": question },\n",
    "        ]\n",
    "    )\n",
    "    \n",
    "    print(20*\"=\")\n",
    "\n",
    "    answer = completion.choices[0].message.content\n",
    "    print(answer)"
   ]
  },
  {
   "cell_type": "markdown",
   "metadata": {},
   "source": [
    "## Only the markdown please"
   ]
  },
  {
   "cell_type": "code",
   "execution_count": null,
   "metadata": {},
   "outputs": [
    {
     "name": "stdout",
     "output_type": "stream",
     "text": [
      "```javascript\n",
      "function helloWorld() {\n",
      "    console.log(\"Hello, World!\");\n",
      "}\n",
      "```\n"
     ]
    }
   ],
   "source": [
    "# We add instruction to have it only return the code in markdown\n",
    "markdown_prompt = question + \". Only return markdown. Don't add any comments or explanations. Just the code. No other text. No other characters. No other symbols. No other lines. No other words. Just the code. Nothing else. Just the code. Nothing else. Just the code. Nothing else. Just the code. Nothing else. Just the code. Nothing else.\"\n",
    "\n",
    "# Next we create the completion\n",
    "completion = client.chat.completions.create(model=model,temperature=0,\n",
    "    messages=[\n",
    "        {\"role\": \"system\", \"content\": system_prompt},\n",
    "        {\"role\": \"user\",\"content\": markdown_prompt }\n",
    "    ]\n",
    ")\n",
    "\n",
    "answer = completion.choices[0].message.content\n",
    "print(answer)"
   ]
  }
 ],
 "metadata": {
  "kernelspec": {
   "display_name": ".venv",
   "language": "python",
   "name": "python3"
  },
  "language_info": {
   "codemirror_mode": {
    "name": "ipython",
    "version": 3
   },
   "file_extension": ".py",
   "mimetype": "text/x-python",
   "name": "python",
   "nbconvert_exporter": "python",
   "pygments_lexer": "ipython3",
   "version": "3.13.0"
  }
 },
 "nbformat": 4,
 "nbformat_minor": 2
}
