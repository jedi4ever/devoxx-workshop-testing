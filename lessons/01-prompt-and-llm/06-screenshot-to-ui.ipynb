{
 "cells": [
  {
   "cell_type": "markdown",
   "metadata": {},
   "source": [
    "# Screenshot to Code\n",
    "## Introduction"
   ]
  },
  {
   "cell_type": "markdown",
   "metadata": {},
   "source": [
    "Now that we have multimodal models, we can ask the llm to generate code based on an image.\n",
    "We got some inspiration from the repo <https://github.com/abi/screenshot-to-code/blob/main/blog/evaluating-claude.md>"
   ]
  },
  {
   "cell_type": "markdown",
   "metadata": {},
   "source": [
    "## Installation"
   ]
  },
  {
   "cell_type": "code",
   "execution_count": 1,
   "metadata": {},
   "outputs": [
    {
     "name": "stdout",
     "output_type": "stream",
     "text": [
      "\n",
      "\u001b[1m[\u001b[0m\u001b[34;49mnotice\u001b[0m\u001b[1;39;49m]\u001b[0m\u001b[39;49m A new release of pip is available: \u001b[0m\u001b[31;49m24.3.1\u001b[0m\u001b[39;49m -> \u001b[0m\u001b[32;49m25.0.1\u001b[0m\n",
      "\u001b[1m[\u001b[0m\u001b[34;49mnotice\u001b[0m\u001b[1;39;49m]\u001b[0m\u001b[39;49m To update, run: \u001b[0m\u001b[32;49mpip install --upgrade pip\u001b[0m\n",
      "Note: you may need to restart the kernel to use updated packages.\n"
     ]
    }
   ],
   "source": [
    "%pip install -q openai"
   ]
  },
  {
   "cell_type": "markdown",
   "metadata": {},
   "source": [
    "## The prompt to generate the code"
   ]
  },
  {
   "cell_type": "markdown",
   "metadata": {},
   "source": [
    "Here's a big prompt that asks OpenAI to generate the frontend code."
   ]
  },
  {
   "cell_type": "code",
   "execution_count": 2,
   "metadata": {},
   "outputs": [],
   "source": [
    "HTML_TAILWIND_SYSTEM_PROMPT = \"\"\"\n",
    "You have perfect vision and pay great attention to detail which makes you an expert at building single page apps using Tailwind, HTML and JS.\n",
    "You take screenshots of a reference web page from the user, and then build single page apps \n",
    "using Tailwind, HTML and JS.\n",
    "You might also be given a screenshot (The second image) of a web page that you have already built, and asked to\n",
    "update it to look more like the reference image(The first image).\n",
    "\n",
    "- Make sure the app looks exactly like the screenshot.\n",
    "- Do not leave out smaller UI elements. Make sure to include every single thing in the screenshot.\n",
    "- Pay close attention to background color, text color, font size, font family, \n",
    "padding, margin, border, etc. Match the colors and sizes exactly.\n",
    "- In particular, pay attention to background color and overall color scheme.\n",
    "- Use the exact text from the screenshot.\n",
    "- Do not add comments in the code such as \"<!-- Add other navigation links as needed -->\" and \"<!-- ... other news items ... -->\" in place of writing the full code. WRITE THE FULL CODE.\n",
    "- Make sure to always get the layout right (if things are arranged in a row in the screenshot, they should be in a row in the app as well)\n",
    "- Repeat elements as needed to match the screenshot. For example, if there are 15 items, the code should have 15 items. DO NOT LEAVE comments like \"<!-- Repeat for each news item -->\" or bad things will happen.\n",
    "- For images, use placeholder images from https://placehold.co and include a detailed description of the image in the alt text so that an image generation AI can generate the image later.\n",
    "\n",
    "In terms of libraries,\n",
    "\n",
    "- Use this script to include Tailwind: <script src=\"https://cdn.tailwindcss.com\"></script>\n",
    "- You can use Google Fonts\n",
    "- Font Awesome for icons: <link rel=\"stylesheet\" href=\"https://cdnjs.cloudflare.com/ajax/libs/font-awesome/5.15.3/css/all.min.css\"></link>\n",
    "\n",
    "Return only the full code in <html></html> tags.\n",
    "\"\"\"\n",
    "\n",
    "# Do not include markdown \"```\" or \"```html\" at the start or end.\n"
   ]
  },
  {
   "cell_type": "markdown",
   "metadata": {},
   "source": [
    "Note the tricks above to make sure it is a single file of output"
   ]
  },
  {
   "cell_type": "markdown",
   "metadata": {},
   "source": [
    "## Ask the OpenAI Model\n",
    "We use a screenshot we created earlier and ask it to generate the code for it."
   ]
  },
  {
   "cell_type": "code",
   "execution_count": 3,
   "metadata": {},
   "outputs": [
    {
     "name": "stdout",
     "output_type": "stream",
     "text": [
      "Generated HTML:\n",
      "I'm unable to create a full HTML page, but I can help guide you on where things should be placed and how Tailwind classes can be applied to replicate this design.\n",
      "\n",
      "```html\n",
      "<!DOCTYPE html>\n",
      "<html lang=\"en\">\n",
      "<head>\n",
      "    <meta charset=\"UTF-8\">\n",
      "    <meta name=\"viewport\" content=\"width=device-width, initial-scale=1.0\">\n",
      "    <title>Request a Ride</title>\n",
      "    <script src=\"https://cdn.tailwindcss.com\"></script>\n",
      "    <link rel=\"stylesheet\" href=\"https://cdnjs.cloudflare.com/ajax/libs/font-awesome/5.15.3/css/all.min.css\">\n",
      "    <link href=\"https://fonts.googleapis.com/css2?family=Roboto:wght@400;700&display=swap\" rel=\"stylesheet\">\n",
      "    <style>\n",
      "        body {\n",
      "            font-family: 'Roboto', sans-serif;\n",
      "        }\n",
      "    </style>\n",
      "</head>\n",
      "<body class=\"bg-white text-gray-900\">\n",
      "    <!-- Navbar -->\n",
      "    <div class=\"flex justify-between items-center px-8 py-4 shadow-md\">\n",
      "        <div class=\"flex items-center space-x-4\">\n",
      "            <span class=\"text-xl font-bold\">Uber</span>\n",
      "            <nav class=\"space-x-4\">\n",
      "                <a href=\"#\" class=\"text-sm font-medium\">Ride</a>\n",
      "                <a href=\"#\" class=\"text-sm font-medium\">Drive</a>\n",
      "                <a href=\"#\" class=\"text-sm font-medium\">Business</a>\n",
      "                <a href=\"#\" class=\"text-sm font-medium\">Uber Eats</a>\n",
      "                <a href=\"#\" class=\"text-sm font-medium\">About <i class=\"fas fa-caret-down\"></i></a>\n",
      "            </nav>\n",
      "        </div>\n",
      "        <div class=\"flex items-center space-x-4\">\n",
      "            <div class=\"relative\">\n",
      "                <input type=\"text\" placeholder=\"Search Uber.com\" class=\"border rounded-full pl-8 pr-4 py-2 text-sm focus:outline-none\">\n",
      "                <i class=\"fas fa-search absolute left-3 top-1/2 transform -translate-y-1/2 text-gray-500\"></i>\n",
      "            </div>\n",
      "            <span class=\"text-sm\">🌐 EN</span>\n",
      "            <a href=\"#\" class=\"text-sm font-medium\">Help</a>\n",
      "            <div class=\"flex items-center space-x-2\">\n",
      "                <span class=\"text-sm font-medium\">patrick</span>\n",
      "                <i class=\"fas fa-caret-down\"></i>\n",
      "            </div>\n",
      "        </div>\n",
      "    </div>\n",
      "\n",
      "    <!-- Welcome Bar -->\n",
      "    <div class=\"bg-black text-white p-4 flex items-center justify-between\">\n",
      "        <span class=\"text-sm\">Welcome back, patrick</span>\n",
      "        <span class=\"flex items-center space-x-4\">\n",
      "            <div class=\"flex items-center space-x-1\">\n",
      "                <i class=\"fas fa-calendar-alt\"></i>\n",
      "                <span class=\"text-sm\">You have no upcoming trips</span>\n",
      "            </div>\n",
      "            <span class=\"flex items-center space-x-2\">\n",
      "                <i class=\"fas fa-wallet\"></i>\n",
      "                <span class=\"text-sm\">Wallet</span>\n",
      "            </span>\n",
      "            <span class=\"flex items-center space-x-2\">\n",
      "                <i class=\"fas fa-receipt\"></i>\n",
      "                <span class=\"text-sm\">Receipts</span>\n",
      "            </span>\n",
      "            <span class=\"flex items-center space-x-2\">\n",
      "                <i class=\"fas fa-user\"></i>\n",
      "                <span class=\"text-sm\">Account</span>\n",
      "            </span>\n",
      "            <span class=\"flex items-center space-x-1\">\n",
      "                <i class=\"fas fa-star\"></i>\n",
      "                <span class=\"text-sm\">4.84</span>\n",
      "            </span>\n",
      "            <span class=\"badge bg-white text-black px-2 py-0.5 rounded-full text-sm\">Uber One</span>\n",
      "        </span>\n",
      "    </div>\n",
      "\n",
      "    <!-- Main Content -->\n",
      "    <div class=\"flex justify-between items-center px-16 py-12\">\n",
      "        <div class=\"w-1/2 pr-8\">\n",
      "            <h1 class=\"text-4xl font-bold mb-6\">Request a ride</h1>\n",
      "            <div class=\"border rounded-lg overflow-hidden mb-6\">\n",
      "                <div class=\"border-b py-4 px-4 flex justify-between items-center space-x-2\">\n",
      "                    <span class=\"flex items-center space-x-2\">\n",
      "                        <i class=\"fas fa-dot-circle\"></i>\n",
      "                        <input type=\"text\" placeholder=\"Enter location\" class=\"w-full focus:outline-none\">\n",
      "                    </span>\n",
      "                    <i class=\"fas fa-location-arrow\"></i>\n",
      "                </div>\n",
      "                <div class=\"py-4 px-4 flex justify-between items-center\">\n",
      "                    <span class=\"flex items-center space-x-2\">\n",
      "                        <i class=\"fas fa-square\"></i>\n",
      "                        <input type=\"text\" placeholder=\"Enter destination\" class=\"w-full focus:outline-none\">\n",
      "                    </span>\n",
      "                </div>\n",
      "            </div>\n",
      "            <button class=\"bg-black text-white px-8 py-3 rounded-full\">See prices</button>\n",
      "        </div>\n",
      "        <div>\n",
      "            <img src=\"https://placehold.co/500x300\" alt=\"Illustration of a person getting out of a blue car with a cityscape in the background\" class=\"rounded-lg\">\n",
      "        </div>\n",
      "    </div>\n",
      "</body>\n",
      "</html>\n",
      "```\n"
     ]
    }
   ],
   "source": [
    "import base64\n",
    "from openai import OpenAI\n",
    "\n",
    "client = OpenAI()\n",
    "\n",
    "import base64\n",
    "\n",
    "# Function to encode the image\n",
    "def encode_image(image_path):\n",
    "    with open(image_path, \"rb\") as image_file:\n",
    "        return base64.b64encode(image_file.read()).decode(\"utf-8\")\n",
    "\n",
    "\n",
    "# Path to your image\n",
    "image_path = \"data/screenshot.png\"\n",
    "\n",
    "# Getting the Base64 string\n",
    "base64_image = encode_image(image_path)\n",
    "\n",
    "completion = client.chat.completions.create(\n",
    "    model=\"gpt-4o\",\n",
    "    messages=[\n",
    "        {\n",
    "            \"role\": \"user\",\n",
    "            \"content\": [\n",
    "                { \"type\": \"text\", \"text\": HTML_TAILWIND_SYSTEM_PROMPT },\n",
    "                {\n",
    "                    \"type\": \"image_url\",\n",
    "                    \"image_url\": {\n",
    "                        \"url\": f\"data:image/png;base64,{base64_image}\",\n",
    "                    },\n",
    "                },\n",
    "            ],\n",
    "        }\n",
    "    ],\n",
    ")\n",
    "\n",
    "output = completion.choices[0].message.content\n",
    "# Print the generated HTML\n",
    "print(\"Generated HTML:\")\n",
    "print(output)"
   ]
  },
  {
   "cell_type": "markdown",
   "metadata": {},
   "source": [
    "## Extracting the code block\n",
    "- We use `mdextractor` to extract markdown blocks from text. <https://github.com/chigwell/mdextractor>\n"
   ]
  },
  {
   "cell_type": "code",
   "execution_count": 4,
   "metadata": {},
   "outputs": [
    {
     "name": "stdout",
     "output_type": "stream",
     "text": [
      "\n",
      "\u001b[1m[\u001b[0m\u001b[34;49mnotice\u001b[0m\u001b[1;39;49m]\u001b[0m\u001b[39;49m A new release of pip is available: \u001b[0m\u001b[31;49m24.3.1\u001b[0m\u001b[39;49m -> \u001b[0m\u001b[32;49m25.0.1\u001b[0m\n",
      "\u001b[1m[\u001b[0m\u001b[34;49mnotice\u001b[0m\u001b[1;39;49m]\u001b[0m\u001b[39;49m To update, run: \u001b[0m\u001b[32;49mpip install --upgrade pip\u001b[0m\n",
      "Note: you may need to restart the kernel to use updated packages.\n"
     ]
    }
   ],
   "source": [
    "%pip install -q mdextractor"
   ]
  },
  {
   "cell_type": "code",
   "execution_count": 5,
   "metadata": {},
   "outputs": [
    {
     "name": "stdout",
     "output_type": "stream",
     "text": [
      "<!DOCTYPE html>\n",
      "<html lang=\"en\">\n",
      "<head>\n",
      "    <meta charset=\"UTF-8\">\n",
      "    <meta name=\"viewport\" content=\"width=device-width, initial-scale=1.0\">\n",
      "    <title>Request a Ride</title>\n",
      "    <script src=\"https://cdn.tailwindcss.com\"></script>\n",
      "    <link rel=\"stylesheet\" href=\"https://cdnjs.cloudflare.com/ajax/libs/font-awesome/5.15.3/css/all.min.css\">\n",
      "    <link href=\"https://fonts.googleapis.com/css2?family=Roboto:wght@400;700&display=swap\" rel=\"stylesheet\">\n",
      "    <style>\n",
      "        body {\n",
      "            font-family: 'Roboto', sans-serif;\n",
      "        }\n",
      "    </style>\n",
      "</head>\n",
      "<body class=\"bg-white text-gray-900\">\n",
      "    <!-- Navbar -->\n",
      "    <div class=\"flex justify-between items-center px-8 py-4 shadow-md\">\n",
      "        <div class=\"flex items-center space-x-4\">\n",
      "            <span class=\"text-xl font-bold\">Uber</span>\n",
      "            <nav class=\"space-x-4\">\n",
      "                <a href=\"#\" class=\"text-sm font-medium\">Ride</a>\n",
      "                <a href=\"#\" class=\"text-sm font-medium\">Drive</a>\n",
      "                <a href=\"#\" class=\"text-sm font-medium\">Business</a>\n",
      "                <a href=\"#\" class=\"text-sm font-medium\">Uber Eats</a>\n",
      "                <a href=\"#\" class=\"text-sm font-medium\">About <i class=\"fas fa-caret-down\"></i></a>\n",
      "            </nav>\n",
      "        </div>\n",
      "        <div class=\"flex items-center space-x-4\">\n",
      "            <div class=\"relative\">\n",
      "                <input type=\"text\" placeholder=\"Search Uber.com\" class=\"border rounded-full pl-8 pr-4 py-2 text-sm focus:outline-none\">\n",
      "                <i class=\"fas fa-search absolute left-3 top-1/2 transform -translate-y-1/2 text-gray-500\"></i>\n",
      "            </div>\n",
      "            <span class=\"text-sm\">🌐 EN</span>\n",
      "            <a href=\"#\" class=\"text-sm font-medium\">Help</a>\n",
      "            <div class=\"flex items-center space-x-2\">\n",
      "                <span class=\"text-sm font-medium\">patrick</span>\n",
      "                <i class=\"fas fa-caret-down\"></i>\n",
      "            </div>\n",
      "        </div>\n",
      "    </div>\n",
      "\n",
      "    <!-- Welcome Bar -->\n",
      "    <div class=\"bg-black text-white p-4 flex items-center justify-between\">\n",
      "        <span class=\"text-sm\">Welcome back, patrick</span>\n",
      "        <span class=\"flex items-center space-x-4\">\n",
      "            <div class=\"flex items-center space-x-1\">\n",
      "                <i class=\"fas fa-calendar-alt\"></i>\n",
      "                <span class=\"text-sm\">You have no upcoming trips</span>\n",
      "            </div>\n",
      "            <span class=\"flex items-center space-x-2\">\n",
      "                <i class=\"fas fa-wallet\"></i>\n",
      "                <span class=\"text-sm\">Wallet</span>\n",
      "            </span>\n",
      "            <span class=\"flex items-center space-x-2\">\n",
      "                <i class=\"fas fa-receipt\"></i>\n",
      "                <span class=\"text-sm\">Receipts</span>\n",
      "            </span>\n",
      "            <span class=\"flex items-center space-x-2\">\n",
      "                <i class=\"fas fa-user\"></i>\n",
      "                <span class=\"text-sm\">Account</span>\n",
      "            </span>\n",
      "            <span class=\"flex items-center space-x-1\">\n",
      "                <i class=\"fas fa-star\"></i>\n",
      "                <span class=\"text-sm\">4.84</span>\n",
      "            </span>\n",
      "            <span class=\"badge bg-white text-black px-2 py-0.5 rounded-full text-sm\">Uber One</span>\n",
      "        </span>\n",
      "    </div>\n",
      "\n",
      "    <!-- Main Content -->\n",
      "    <div class=\"flex justify-between items-center px-16 py-12\">\n",
      "        <div class=\"w-1/2 pr-8\">\n",
      "            <h1 class=\"text-4xl font-bold mb-6\">Request a ride</h1>\n",
      "            <div class=\"border rounded-lg overflow-hidden mb-6\">\n",
      "                <div class=\"border-b py-4 px-4 flex justify-between items-center space-x-2\">\n",
      "                    <span class=\"flex items-center space-x-2\">\n",
      "                        <i class=\"fas fa-dot-circle\"></i>\n",
      "                        <input type=\"text\" placeholder=\"Enter location\" class=\"w-full focus:outline-none\">\n",
      "                    </span>\n",
      "                    <i class=\"fas fa-location-arrow\"></i>\n",
      "                </div>\n",
      "                <div class=\"py-4 px-4 flex justify-between items-center\">\n",
      "                    <span class=\"flex items-center space-x-2\">\n",
      "                        <i class=\"fas fa-square\"></i>\n",
      "                        <input type=\"text\" placeholder=\"Enter destination\" class=\"w-full focus:outline-none\">\n",
      "                    </span>\n",
      "                </div>\n",
      "            </div>\n",
      "            <button class=\"bg-black text-white px-8 py-3 rounded-full\">See prices</button>\n",
      "        </div>\n",
      "        <div>\n",
      "            <img src=\"https://placehold.co/500x300\" alt=\"Illustration of a person getting out of a blue car with a cityscape in the background\" class=\"rounded-lg\">\n",
      "        </div>\n",
      "    </div>\n",
      "</body>\n",
      "</html>\n",
      "----------------------------------------\n"
     ]
    }
   ],
   "source": [
    "from mdextractor import extract_md_blocks\n",
    "\n",
    "output = completion.choices[0].message.content\n",
    "\n",
    "# Extracting code blocks\n",
    "blocks = extract_md_blocks(output)\n",
    "\n",
    "# Display the extracted blocks\n",
    "for block in blocks:\n",
    "    print(block)\n",
    "    print(\"-\" * 40)"
   ]
  }
 ],
 "metadata": {
  "kernelspec": {
   "display_name": "02-code-basics",
   "language": "python",
   "name": "02-code-basics"
  },
  "language_info": {
   "codemirror_mode": {
    "name": "ipython",
    "version": 3
   },
   "file_extension": ".py",
   "mimetype": "text/x-python",
   "name": "python",
   "nbconvert_exporter": "python",
   "pygments_lexer": "ipython3",
   "version": "3.12.9"
  }
 },
 "nbformat": 4,
 "nbformat_minor": 2
}
