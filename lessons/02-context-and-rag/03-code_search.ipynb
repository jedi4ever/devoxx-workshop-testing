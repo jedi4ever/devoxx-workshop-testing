{
 "cells": [
  {
   "attachments": {},
   "cell_type": "markdown",
   "metadata": {},
   "source": [
    "# Code search using embeddings\n",
    "## Introduction\n",
    "- Instead of sending the whole codebase, we can use embeddings to only send relevant pieces to the llm.\n",
    "- This notebook shows how embeddings can also be used to implement semantic code search. \n",
    "- We implement a simple version of file parsing and extracting of functions from python files, which can be embedded, indexed, and queried.\n",
    "\n",
    "Inspired by : <https://github.com/openai/openai-cookbook/blob/main/examples/Code_search_using_embeddings.ipynb>"
   ]
  },
  {
   "cell_type": "markdown",
   "metadata": {},
   "source": [
    "## Installation"
   ]
  },
  {
   "cell_type": "code",
   "execution_count": 1,
   "metadata": {},
   "outputs": [
    {
     "name": "stdout",
     "output_type": "stream",
     "text": [
      "Note: you may need to restart the kernel to use updated packages.\n"
     ]
    }
   ],
   "source": [
    "%pip install -q pandas openai numpy"
   ]
  },
  {
   "attachments": {},
   "cell_type": "markdown",
   "metadata": {},
   "source": [
    "## Parsing code files\n",
    "\n",
    "We first setup some simple parsing functions that allow us to extract important information from our codebase."
   ]
  },
  {
   "cell_type": "code",
   "execution_count": 2,
   "metadata": {},
   "outputs": [],
   "source": [
    "import pandas as pd\n",
    "from pathlib import Path\n",
    "\n",
    "# We look for function definitions in Python files.\n",
    "DEF_PREFIXES = ['def ', 'async def ']\n",
    "NEWLINE = '\\n'\n",
    "\n",
    "def get_function_name(code):\n",
    "    \"\"\"\n",
    "    Extract function name from a line beginning with 'def' or 'async def'.\n",
    "    \"\"\"\n",
    "    for prefix in DEF_PREFIXES:\n",
    "        if code.startswith(prefix):\n",
    "            return code[len(prefix): code.index('(')]\n",
    "\n",
    "\n",
    "def get_until_no_space(all_lines, i):\n",
    "    \"\"\"\n",
    "    Get all lines until a line outside the function definition is found.\n",
    "    \"\"\"\n",
    "    ret = [all_lines[i]]\n",
    "    for j in range(i + 1, len(all_lines)):\n",
    "        if len(all_lines[j]) == 0 or all_lines[j][0] in [' ', '\\t', ')']:\n",
    "            ret.append(all_lines[j])\n",
    "        else:\n",
    "            break\n",
    "    return NEWLINE.join(ret)\n",
    "\n",
    "\n",
    "def get_functions(filepath):\n",
    "    \"\"\"\n",
    "    Get all functions in a Python file.\n",
    "    \"\"\"\n",
    "    with open(filepath, 'r') as file:\n",
    "        all_lines = file.read().replace('\\r', NEWLINE).split(NEWLINE)\n",
    "        for i, l in enumerate(all_lines):\n",
    "            for prefix in DEF_PREFIXES:\n",
    "                if l.startswith(prefix):\n",
    "                    code = get_until_no_space(all_lines, i)\n",
    "                    function_name = get_function_name(code)\n",
    "                    yield {\n",
    "                        'code': code,\n",
    "                        'function_name': function_name,\n",
    "                        'filepath': filepath,\n",
    "                    }\n",
    "                    break\n",
    "\n",
    "\n",
    "def extract_functions_from_repo(code_root):\n",
    "    \"\"\"\n",
    "    Extract all .py functions from the repository.\n",
    "    \"\"\"\n",
    "    code_files = list(code_root.glob('**/*.py'))\n",
    "\n",
    "    num_files = len(code_files)\n",
    "    print(f'Total number of .py files: {num_files}')\n",
    "\n",
    "    if num_files == 0:\n",
    "        print('Verify openai-python repo exists and code_root is set correctly.')\n",
    "        return None\n",
    "\n",
    "    all_funcs = [\n",
    "        func\n",
    "        for code_file in code_files\n",
    "        for func in get_functions(str(code_file))\n",
    "    ]\n",
    "\n",
    "    num_funcs = len(all_funcs)\n",
    "    print(f'Total number of functions extracted: {num_funcs}')\n",
    "\n",
    "    return all_funcs"
   ]
  },
  {
   "attachments": {},
   "cell_type": "markdown",
   "metadata": {},
   "source": [
    "## Read our code repository\n",
    "\n",
    "We'll first load the `data/code` folder and extract the needed information using the functions we defined above."
   ]
  },
  {
   "cell_type": "code",
   "execution_count": 3,
   "metadata": {},
   "outputs": [
    {
     "name": "stdout",
     "output_type": "stream",
     "text": [
      "Total number of .py files: 3\n",
      "Total number of functions extracted: 3\n"
     ]
    }
   ],
   "source": [
    "code_root = Path(\"./repo\")\n",
    "#code_root = root_dir / 'repo'\n",
    "all_funcs = extract_functions_from_repo(code_root)"
   ]
  },
  {
   "cell_type": "markdown",
   "metadata": {},
   "source": [
    "## Calculate code embeddings"
   ]
  },
  {
   "attachments": {},
   "cell_type": "markdown",
   "metadata": {},
   "source": [
    "Now that we have our content, we can pass the data to the `text-embedding-3-small` embeding model and get back our vector embeddings."
   ]
  },
  {
   "cell_type": "code",
   "execution_count": 4,
   "metadata": {},
   "outputs": [
    {
     "data": {
      "text/html": [
       "<div>\n",
       "<style scoped>\n",
       "    .dataframe tbody tr th:only-of-type {\n",
       "        vertical-align: middle;\n",
       "    }\n",
       "\n",
       "    .dataframe tbody tr th {\n",
       "        vertical-align: top;\n",
       "    }\n",
       "\n",
       "    .dataframe thead th {\n",
       "        text-align: right;\n",
       "    }\n",
       "</style>\n",
       "<table border=\"1\" class=\"dataframe\">\n",
       "  <thead>\n",
       "    <tr style=\"text-align: right;\">\n",
       "      <th></th>\n",
       "      <th>code</th>\n",
       "      <th>function_name</th>\n",
       "      <th>filepath</th>\n",
       "    </tr>\n",
       "  </thead>\n",
       "  <tbody>\n",
       "    <tr>\n",
       "      <th>0</th>\n",
       "      <td>def main():\\n    hello(\"Hello, World!\")\\n\\n</td>\n",
       "      <td>main</td>\n",
       "      <td>repo/main.py</td>\n",
       "    </tr>\n",
       "    <tr>\n",
       "      <th>1</th>\n",
       "      <td>def hello(text):\\n    \"\"\"\\n    This function p...</td>\n",
       "      <td>hello</td>\n",
       "      <td>repo/lib/hello.py</td>\n",
       "    </tr>\n",
       "    <tr>\n",
       "      <th>2</th>\n",
       "      <td>def hello_patrick():\\n    # Print the message\\...</td>\n",
       "      <td>hello_patrick</td>\n",
       "      <td>repo/lib/hello.py</td>\n",
       "    </tr>\n",
       "  </tbody>\n",
       "</table>\n",
       "</div>"
      ],
      "text/plain": [
       "                                                code  function_name  \\\n",
       "0        def main():\\n    hello(\"Hello, World!\")\\n\\n           main   \n",
       "1  def hello(text):\\n    \"\"\"\\n    This function p...          hello   \n",
       "2  def hello_patrick():\\n    # Print the message\\...  hello_patrick   \n",
       "\n",
       "            filepath  \n",
       "0       repo/main.py  \n",
       "1  repo/lib/hello.py  \n",
       "2  repo/lib/hello.py  "
      ]
     },
     "execution_count": 4,
     "metadata": {},
     "output_type": "execute_result"
    }
   ],
   "source": [
    "from openai import OpenAI\n",
    "client = OpenAI()\n",
    "\n",
    "def get_embedding(text, model=\"text-embedding-3-small\"):\n",
    "    text = text.replace(\"\\n\", \" \")\n",
    "    return client.embeddings.create(input = [text], model=model).data[0].embedding\n",
    "\n",
    "embedding_model = 'text-embedding-3-small'\n",
    "\n",
    "# we turn the array of all functions onto a dataframe\n",
    "df = pd.DataFrame(all_funcs)\n",
    "df"
   ]
  },
  {
   "cell_type": "markdown",
   "metadata": {},
   "source": [
    "## Calculate embeddings"
   ]
  },
  {
   "cell_type": "code",
   "execution_count": 5,
   "metadata": {},
   "outputs": [
    {
     "data": {
      "text/html": [
       "<div>\n",
       "<style scoped>\n",
       "    .dataframe tbody tr th:only-of-type {\n",
       "        vertical-align: middle;\n",
       "    }\n",
       "\n",
       "    .dataframe tbody tr th {\n",
       "        vertical-align: top;\n",
       "    }\n",
       "\n",
       "    .dataframe thead th {\n",
       "        text-align: right;\n",
       "    }\n",
       "</style>\n",
       "<table border=\"1\" class=\"dataframe\">\n",
       "  <thead>\n",
       "    <tr style=\"text-align: right;\">\n",
       "      <th></th>\n",
       "      <th>code</th>\n",
       "      <th>function_name</th>\n",
       "      <th>filepath</th>\n",
       "      <th>code_embedding</th>\n",
       "    </tr>\n",
       "  </thead>\n",
       "  <tbody>\n",
       "    <tr>\n",
       "      <th>0</th>\n",
       "      <td>def main():\\n    hello(\"Hello, World!\")\\n\\n</td>\n",
       "      <td>main</td>\n",
       "      <td>main.py</td>\n",
       "      <td>[0.03210125491023064, -0.01357596181333065, 0....</td>\n",
       "    </tr>\n",
       "    <tr>\n",
       "      <th>1</th>\n",
       "      <td>def hello(text):\\n    \"\"\"\\n    This function p...</td>\n",
       "      <td>hello</td>\n",
       "      <td>lib/hello.py</td>\n",
       "      <td>[0.024970512837171555, -0.0030333898030221462,...</td>\n",
       "    </tr>\n",
       "    <tr>\n",
       "      <th>2</th>\n",
       "      <td>def hello_patrick():\\n    # Print the message\\...</td>\n",
       "      <td>hello_patrick</td>\n",
       "      <td>lib/hello.py</td>\n",
       "      <td>[0.028183333575725555, -0.01952880620956421, 0...</td>\n",
       "    </tr>\n",
       "  </tbody>\n",
       "</table>\n",
       "</div>"
      ],
      "text/plain": [
       "                                                code  function_name  \\\n",
       "0        def main():\\n    hello(\"Hello, World!\")\\n\\n           main   \n",
       "1  def hello(text):\\n    \"\"\"\\n    This function p...          hello   \n",
       "2  def hello_patrick():\\n    # Print the message\\...  hello_patrick   \n",
       "\n",
       "       filepath                                     code_embedding  \n",
       "0       main.py  [0.03210125491023064, -0.01357596181333065, 0....  \n",
       "1  lib/hello.py  [0.024970512837171555, -0.0030333898030221462,...  \n",
       "2  lib/hello.py  [0.028183333575725555, -0.01952880620956421, 0...  "
      ]
     },
     "execution_count": 5,
     "metadata": {},
     "output_type": "execute_result"
    }
   ],
   "source": [
    "# We calculate the embeddings for each function\n",
    "# and save them to the dataframe\n",
    "df['code_embedding'] = df['code'].apply(lambda x: get_embedding(x, model=embedding_model))\n",
    "\n",
    "# we extract the function name and the file path\n",
    "df['filepath'] = df['filepath'].map(lambda x: Path(x).relative_to(code_root))\n",
    "\n",
    "# Next we save the dataframe to a CSV file\n",
    "#df.to_csv(\"data/code_search_openai-python.csv\", index=False)\n",
    "df.head()"
   ]
  },
  {
   "cell_type": "markdown",
   "metadata": {},
   "source": [
    "## Similarity score using cosine"
   ]
  },
  {
   "cell_type": "code",
   "execution_count": 6,
   "metadata": {},
   "outputs": [],
   "source": [
    "import numpy as np\n",
    "def cosine_similarity(a, b):\n",
    "    return np.dot(a, b) / (np.linalg.norm(a) * np.linalg.norm(b))"
   ]
  },
  {
   "attachments": {},
   "cell_type": "markdown",
   "metadata": {},
   "source": [
    "## Search code function\n",
    "\n",
    "We define a search_functions method that takes our data that contains our embeddings, a query string, and some other configuration options. The process of searching our database works like such:\n",
    "\n",
    "1. We first embed our query string (code_query) with `text-embedding-3-small`. The reasoning here is that a query string like 'a function that reverses a string' and a function like 'def reverse(string): return string[::-1]' will be very similar when embedded.\n",
    "2. We then calculate the cosine similarity between our query string embedding and all data points in our database. This gives a distance between each point and our query.\n",
    "3. We finally sort all of our data points by their distance to our query string and return the number of results requested in the function parameters. "
   ]
  },
  {
   "cell_type": "code",
   "execution_count": 7,
   "metadata": {},
   "outputs": [],
   "source": [
    "def search_functions(df, code_query, n=3, pprint=True, n_lines=7):\n",
    "\n",
    "    # calculate the embedding for our query\n",
    "    embedding = get_embedding(code_query, model='text-embedding-3-small')\n",
    "\n",
    "    # now calculate the cosine similarity\n",
    "    df['similarities'] = df.code_embedding.apply(lambda x: cosine_similarity(x, embedding))\n",
    "\n",
    "    # sort the dataframe by similarity\n",
    "    res = df.sort_values('similarities', ascending=False).head(n)\n",
    "\n",
    "    # pprint is True by default\n",
    "    if pprint:\n",
    "        for r in res.iterrows():\n",
    "            print(f\"{r[1].filepath}:{r[1].function_name}  score={round(r[1].similarities, 3)}\")\n",
    "            print(\"\\n\".join(r[1].code.split(\"\\n\")[:n_lines]))\n",
    "            print('-' * 70)\n",
    "\n",
    "    return res"
   ]
  },
  {
   "cell_type": "markdown",
   "metadata": {},
   "source": [
    "## Example code queries"
   ]
  },
  {
   "cell_type": "code",
   "execution_count": 8,
   "metadata": {},
   "outputs": [
    {
     "name": "stdout",
     "output_type": "stream",
     "text": [
      "main.py:main  score=0.637\n",
      "def main():\n",
      "    hello(\"Hello, World!\")\n",
      "\n",
      "\n",
      "----------------------------------------------------------------------\n",
      "lib/hello.py:hello  score=0.539\n",
      "def hello(text):\n",
      "    \"\"\"\n",
      "    This function prints 'Hello, World!' to the console.\n",
      "    \"\"\"\n",
      "    # Print the message\n",
      "    if text == \"patrick\":\n",
      "        hello_patrick()\n",
      "----------------------------------------------------------------------\n",
      "lib/hello.py:hello_patrick  score=0.471\n",
      "def hello_patrick():\n",
      "    # Print the message\n",
      "    print(\"Oh no ! Not Patrick!\")\n",
      "\n",
      "----------------------------------------------------------------------\n"
     ]
    }
   ],
   "source": [
    "res = search_functions(df, 'hello world greeting', n=3)"
   ]
  },
  {
   "cell_type": "code",
   "execution_count": 9,
   "metadata": {},
   "outputs": [
    {
     "name": "stdout",
     "output_type": "stream",
     "text": [
      "lib/hello.py:hello_patrick  score=0.753\n",
      "def hello_patrick():\n",
      "    # Print the message\n",
      "    print(\"Oh no ! Not Patrick!\")\n",
      "\n",
      "----------------------------------------------------------------------\n",
      "lib/hello.py:hello  score=0.484\n",
      "def hello(text):\n",
      "    \"\"\"\n",
      "    This function prints 'Hello, World!' to the console.\n",
      "    \"\"\"\n",
      "    # Print the message\n",
      "    if text == \"patrick\":\n",
      "        hello_patrick()\n",
      "    else:\n",
      "        print(text)\n",
      "\n",
      "----------------------------------------------------------------------\n",
      "main.py:main  score=0.383\n",
      "def main():\n",
      "    hello(\"Hello, World!\")\n",
      "\n",
      "\n",
      "----------------------------------------------------------------------\n"
     ]
    }
   ],
   "source": [
    "res = search_functions(df, 'printing hello_patrick that says oh no', n=3, n_lines=20)"
   ]
  },
  {
   "cell_type": "markdown",
   "metadata": {},
   "source": [
    "## Extra\n",
    "- https://blog.voyageai.com/2024/01/23/voyage-code-2-elevate-your-code-retrieval/"
   ]
  }
 ],
 "metadata": {
  "kernelspec": {
   "display_name": ".venv",
   "language": "python",
   "name": "python3"
  },
  "language_info": {
   "codemirror_mode": {
    "name": "ipython",
    "version": 3
   },
   "file_extension": ".py",
   "mimetype": "text/x-python",
   "name": "python",
   "nbconvert_exporter": "python",
   "pygments_lexer": "ipython3",
   "version": "3.13.0"
  },
  "orig_nbformat": 4
 },
 "nbformat": 4,
 "nbformat_minor": 2
}
