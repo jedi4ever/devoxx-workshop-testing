{
 "cells": [
  {
   "cell_type": "markdown",
   "id": "c9066ca3",
   "metadata": {},
   "source": [
    "# Repo2file\n",
    "## Introduction\n",
    "- Copy and pasting your code into Chatgpt is cumbersome.\n",
    "- Therefore people created helpers to take a complete codebase and turn it into a big file.\n",
    "- An example library is `repo2file` : <https://github.com/artkulak/repo2file>\n",
    "- Similar tools can be found at https://news.ycombinator.com/item?id=41482793"
   ]
  },
  {
   "cell_type": "markdown",
   "id": "ce541413",
   "metadata": {},
   "source": [
    "## Crawling a repository\n",
    "- The gist is to crawl a directory for its files.\n",
    "- Then at the top of the output we print the directory structure, and then each file seperately.\n",
    "- This results in a nice copy and paste ready prompt snippet.\n",
    "- The size of such a prompt can get quite big and does not always work well with all models due to their limits with the context size."
   ]
  },
  {
   "cell_type": "code",
   "execution_count": 1,
   "id": "62b95a2a",
   "metadata": {},
   "outputs": [],
   "source": [
    "import sys\n",
    "sys.path.append('./lib')\n",
    "from repo_formatter import scan_folder "
   ]
  },
  {
   "cell_type": "markdown",
   "id": "5022f308",
   "metadata": {},
   "source": [
    "## Full prompt output"
   ]
  },
  {
   "cell_type": "code",
   "execution_count": 2,
   "id": "312e99c4",
   "metadata": {},
   "outputs": [
    {
     "name": "stdout",
     "output_type": "stream",
     "text": [
      "----------------------------------------\n",
      "Directory Structure:\n",
      "-------------------\n",
      "/ \n",
      "├── lib/\n",
      "│   ├── __init__.py\n",
      "│   └── hello.py\n",
      "└── main.py\n",
      "\n",
      "File Contents:\n",
      "--------------\n",
      "File: ./main.py\n",
      "--------------------------------------------------\n",
      "Content of ./main.py:\n",
      "from lib.hello import hello\n",
      "\n",
      "def main():\n",
      "    hello(\"Hello, World!\")\n",
      "\n",
      "\n",
      "if __name__ == \"__main__\":\n",
      "    main()\n",
      "\n",
      "\n",
      "File: lib/hello.py\n",
      "--------------------------------------------------\n",
      "Content of lib/hello.py:\n",
      "def hello(text):\n",
      "    \"\"\"\n",
      "    This function prints 'Hello, World!' to the console.\n",
      "    \"\"\"\n",
      "    # Print the message\n",
      "    if text == \"patrick\":\n",
      "        hello_patrick()\n",
      "    else:\n",
      "        print(text)\n",
      "\n",
      "def hello_patrick():\n",
      "    # Print the message\n",
      "    print(\"Oh no ! Not Patrick!\")\n",
      "\n",
      "\n",
      "File: lib/__init__.py\n",
      "--------------------------------------------------\n",
      "Content of lib/__init__.py:\n",
      "\n",
      "\n",
      "\n"
     ]
    }
   ],
   "source": [
    "repo2_file = scan_folder('repo')\n",
    "print(40 * '-')\n",
    "print(repo2_file)"
   ]
  },
  {
   "cell_type": "code",
   "execution_count": 3,
   "id": "03ecb0ae",
   "metadata": {},
   "outputs": [
    {
     "name": "stdout",
     "output_type": "stream",
     "text": [
      "\n",
      "\u001b[1m[\u001b[0m\u001b[34;49mnotice\u001b[0m\u001b[1;39;49m]\u001b[0m\u001b[39;49m A new release of pip is available: \u001b[0m\u001b[31;49m25.0.1\u001b[0m\u001b[39;49m -> \u001b[0m\u001b[32;49m25.1.1\u001b[0m\n",
      "\u001b[1m[\u001b[0m\u001b[34;49mnotice\u001b[0m\u001b[1;39;49m]\u001b[0m\u001b[39;49m To update, run: \u001b[0m\u001b[32;49mpip install --upgrade pip\u001b[0m\n",
      "Note: you may need to restart the kernel to use updated packages.\n"
     ]
    }
   ],
   "source": [
    "%pip install -q langchain langchain-openai"
   ]
  },
  {
   "cell_type": "markdown",
   "id": "8782d49b",
   "metadata": {},
   "source": [
    "## Use langchain to change the code"
   ]
  },
  {
   "cell_type": "code",
   "execution_count": 4,
   "id": "d841a2b1",
   "metadata": {},
   "outputs": [
    {
     "name": "stdout",
     "output_type": "stream",
     "text": [
      "To improve the readability and efficiency of the provided code, we'll make a few changes. The `hello()` function will be renamed to `greet()` as per your request. Additionally, we'll ensure that the code in `hello.py` is more cleanly organized and maintainable without changing its logic. Here's the refactored code:\n",
      "\n",
      "### Directory Structure (unchanged)\n",
      "```\n",
      "/ \n",
      "├── lib/\n",
      "│   ├── __init__.py\n",
      "│   └── hello.py\n",
      "└── main.py\n",
      "```\n",
      "\n",
      "### Updated File Contents\n",
      "\n",
      "#### File: ./main.py\n",
      "```python\n",
      "from lib.hello import greet\n",
      "\n",
      "def main():\n",
      "    greet(\"Hello, World!\")\n",
      "\n",
      "if __name__ == \"__main__\":\n",
      "    main()\n",
      "```\n",
      "\n",
      "#### File: lib/hello.py\n",
      "```python\n",
      "def greet(message):\n",
      "    \"\"\"\n",
      "    This function prints a greeting message to the console.\n",
      "    If the message is \"patrick\", it calls hello_patrick().\n",
      "    \"\"\"\n",
      "    if message.lower() == \"patrick\":\n",
      "        _hello_patrick()\n",
      "    else:\n",
      "        print(message)\n",
      "\n",
      "def _hello_patrick():\n",
      "    \"\"\"Prints a specific warning when 'patrick' is greeted.\"\"\"\n",
      "    print(\"Oh no! Not Patrick!\")\n",
      "```\n",
      "\n",
      "#### File: lib/__init__.py\n",
      "```python\n",
      "# The __init__.py file remains empty.\n",
      "```\n",
      "\n",
      "### Changes Made:\n",
      "1. **Renamed Function**: The `hello` function was renamed to `greet`.\n",
      "2. **Improved Documentation**: The docstrings were updated to convey the purpose of each function more clearly.\n",
      "3. **Lowercasing for Comparison**: The comparison `text == \"patrick\"` was updated to `message.lower() == \"patrick\"` to make it case-insensitive and more user-friendly.\n",
      "4. **Private Function Naming**: Changed `hello_patrick()` to `_hello_patrick()` to indicate that it's intended for internal use only, which is a common convention in Python.\n",
      "5. **Code Readability**: Enhanced spacing and clarity, especially in the comments.\n",
      "\n",
      "These changes improve the maintainability and readability of your code while keeping its functionality intact.\n"
     ]
    }
   ],
   "source": [
    "# We import the relevant library for OpenAI\n",
    "from langchain_openai import ChatOpenAI\n",
    "\n",
    "# The question we're asking\n",
    "question = \"You are an expert in Python. Refactor the code so that it is more readable and efficient. And change the function hello() to greet(). The code is:\\n\" + repo2_file\n",
    "\n",
    "# The model we select\n",
    "model = \"gpt-4o-mini\"\n",
    "\n",
    "# ChatOpenAI refers to OpenAI chat model\n",
    "llm = ChatOpenAI(model=model)\n",
    "\n",
    "# Now we ask the model to complete the question\n",
    "answer = llm.invoke(question)\n",
    "print(answer.content)"
   ]
  },
  {
   "cell_type": "markdown",
   "id": "c0906724",
   "metadata": {},
   "source": [
    "## LLMText\n",
    "- Instead of bringing local files, we can also use the same trick to get remote repos\n",
    "- There is convenience website `llmtext` that converts sites,npm ,  github repos and youtube videos into content"
   ]
  },
  {
   "cell_type": "code",
   "execution_count": 5,
   "id": "e18eeb3e",
   "metadata": {},
   "outputs": [
    {
     "name": "stdout",
     "output_type": "stream",
     "text": [
      "\n",
      "\u001b[1m[\u001b[0m\u001b[34;49mnotice\u001b[0m\u001b[1;39;49m]\u001b[0m\u001b[39;49m A new release of pip is available: \u001b[0m\u001b[31;49m25.0.1\u001b[0m\u001b[39;49m -> \u001b[0m\u001b[32;49m25.1.1\u001b[0m\n",
      "\u001b[1m[\u001b[0m\u001b[34;49mnotice\u001b[0m\u001b[1;39;49m]\u001b[0m\u001b[39;49m To update, run: \u001b[0m\u001b[32;49mpip install --upgrade pip\u001b[0m\n",
      "Note: you may need to restart the kernel to use updated packages.\n",
      "React is a JavaScript library for building user interfaces.\n",
      "\n",
      "Declarative: React makes it painless to create interactive UIs. Design simple views for each state in your application, and React will efficiently update and render just the right components when your data changes. Declarative views make your code more predictable, simpler to understand, and easier to debug.\n",
      "Component-Based: Build encapsulated components that manage their own state, then compose them to make complex UIs. Since component logic is written in JavaScript instead of templates, you can easily pass rich data through your app and keep the state out of the DOM.\n",
      "Learn Once, Write Anywhere: We don't make assumptions about the rest of your technology stack, so you can develop new features in React without rewriting existing code. React can also render on the server using Node and power mobile apps using React Native.\n",
      "\n",
      "Learn how to use React in your project.\n",
      "Installation\n",
      "React has been designed for gradual adoption from the start, and you can use as little or as much React as you need:\n",
      "\n",
      "Use Quick Start to get a taste of React.\n",
      "Add React to an Existing Project to use as little or as much React as you need.\n",
      "Create a New React App if you're looking for a powerful JavaScript toolchain.\n",
      "\n",
      "Documentation\n",
      "You can find the React documentation on the website.\n",
      "Check out the Getting Started page for a quick overview.\n",
      "The documentation is divided into several sections:\n",
      "\n",
      "Quick Start\n",
      "Tutorial\n",
      "Thinking in React\n",
      "Installation\n",
      "Describing the UI\n",
      "Adding Interactivity\n",
      "Managing State\n",
      "Advanced Guides\n",
      "API Reference\n",
      "Where to Get Support\n",
      "Contributing Guide\n",
      "\n",
      "You can improve it by sending pull requests to this repository.\n",
      "Examples\n",
      "We have several examples on the website. Here is the first one to get you started:\n",
      "import { createRoot } from 'react-dom/client';\n",
      "\n",
      "function HelloMessage({ name }) {\n",
      "  return <div>Hello {name}</div>;\n",
      "}\n",
      "\n",
      "const root = createRoot(document.getElementById('container'));\n",
      "root.render(<HelloMessage name=\"Taylor\" />);\n",
      "This example will render \"Hello Taylor\" into a container on the page.\n",
      "You'll notice that we used an HTML-like syntax; we call it JSX. JSX is not required to use React, but it makes code more readable, and writing it feels like writing HTML.\n",
      "Contributing\n",
      "The main purpose of this repository is to continue evolving React core, making it faster and easier to use. Development of React happens in the open on GitHub, and we are grateful to the community for contributing bugfixes and improvements. Read below to learn how you can take part in improving React.\n",
      "Code of Conduct\n",
      "Facebook has adopted a Code of Conduct that we expect project participants to adhere to. Please read the full text so that you can understand what actions will and will not be tolerated.\n",
      "Contributing Guide\n",
      "Read our contributing guide to learn about our development process, how to propose bugfixes and improvements, and how to build and test your changes to React.\n",
      "Good First Issues\n",
      "To help you get your feet wet and get you familiar with our contribution process, we have a list of good first issues that contain bugs that have a relatively limited scope. This is a great place to get started.\n",
      "License\n",
      "React is MIT licensed.\n",
      "\n"
     ]
    }
   ],
   "source": [
    "%pip install -q requests\n",
    "import requests\n",
    "url = \"https://llmtext.com/github.com/facebook/react\"\n",
    "# Make a GET request to the URL\n",
    "remote = requests.get(url)\n",
    "# Print the first 10000 chars of the response\n",
    "print(remote.text[1:10000])\n",
    "\n",
    "# This is a placeholder URL. Replace with the actual URL you want to read.\n",
    "# https://llmtext.com/github.com/facebook/react"
   ]
  }
 ],
 "metadata": {
  "kernelspec": {
   "display_name": "Python 3",
   "language": "python",
   "name": "python3"
  },
  "language_info": {
   "codemirror_mode": {
    "name": "ipython",
    "version": 3
   },
   "file_extension": ".py",
   "mimetype": "text/x-python",
   "name": "python",
   "nbconvert_exporter": "python",
   "pygments_lexer": "ipython3",
   "version": "3.12.10"
  }
 },
 "nbformat": 4,
 "nbformat_minor": 5
}
