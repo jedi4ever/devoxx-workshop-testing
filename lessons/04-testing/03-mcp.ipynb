{
 "cells": [
  {
   "cell_type": "markdown",
   "metadata": {},
   "source": [
    "## Installation"
   ]
  },
  {
   "cell_type": "markdown",
   "metadata": {},
   "source": [
    "Note : we are pinning the inspect_ai due to a recent breaking change"
   ]
  },
  {
   "cell_type": "code",
   "execution_count": null,
   "metadata": {},
   "outputs": [],
   "source": [
    "%pip install -q openai anthropic ipywidgets colorama\n",
    "import os\n",
    "os.environ['XDG_RUNTIME_DIR']=\"/tmp\"\n",
    "os.environ['INSPECT_EVAL_MODEL'] = \"openai/gpt-4o-mini\"\n",
    "\n",
    "from helpers.reporter.pretty import pretty_results"
   ]
  },
  {
   "cell_type": "markdown",
   "metadata": {},
   "source": [
    "## Adding MCP stdio"
   ]
  },
  {
   "cell_type": "markdown",
   "metadata": {},
   "source": [
    "# these ar installed in the docker image\n",
    "#%pip install -q mcp mcp-server-tree-sitter mcp-server-git"
   ]
  },
  {
   "cell_type": "code",
   "execution_count": null,
   "metadata": {},
   "outputs": [],
   "source": [
    "from inspect_ai.tool import mcp_server_sandbox, mcp_server_stdio\n",
    "from inspect_ai import Task, eval, task\n",
    "\n",
    "from inspect_ai.scorer import includes\n",
    "from inspect_ai.dataset import Sample\n",
    "from inspect_ai.agent import react\n",
    "\n",
    "@task\n",
    "def basic_mcp():\n",
    "    patrick_scanner = mcp_server_stdio(\n",
    "        command=\"python3\",\n",
    "        args=[\"./tools/patrick_scanner.py\"]\n",
    "    )\n",
    "\n",
    "    patrick_fixer = mcp_server_stdio(\n",
    "        command=\"python3\",\n",
    "        args=[\"./tools/patrick_fixer.py\"]\n",
    "    )\n",
    "\n",
    "    git_server = mcp_server_stdio(\n",
    "        command=\"python3\",\n",
    "        args=[\"-m\", \"mcp_server_git\", \"--repository\", \"/my-repo\"]\n",
    "    )\n",
    "\n",
    "    treesitter_server = mcp_server_stdio(\n",
    "            command=\"python3\",\n",
    "            args=[\"-m\",\"mcp_server_tree_sitter.server\" ]\n",
    "        )\n",
    "\n",
    "    treesitter_server_sandbox = mcp_server_sandbox(\n",
    "         command=\"python3\",\n",
    "            args=[\"-m\",\"mcp_server_tree_sitter.server\" ],\n",
    "      #      sandbox=\"mcp\"\n",
    "    )\n",
    "\n",
    "    fs_server = mcp_server_sandbox(\n",
    "       # sandbox=\"mcp\",\n",
    "        command=\"mcp-server-filesystem\",\n",
    "        args=[\"/\"]\n",
    "    )\n",
    "\n",
    "\n",
    "#    fetch_server = mcp_server_stdio(command=\"python\", args=[\"-m\", \"mcp_server_fetch\"])\n",
    "\n",
    "    return Task(\n",
    "        dataset=[Sample(\n",
    "            \"What can you tell me about the current project in /my-repo? And check for syntax errors\",\n",
    "        )],\n",
    "        sandbox=(\"docker\",\"compose.yaml\"), # yaml contains the default for a sandbox\n",
    "        solver=[react(tools=[treesitter_server_sandbox, fs_server])],\n",
    "        \n",
    "        scorer=[\n",
    "            includes(),\n",
    "        ],\n",
    "\n",
    "        # solver=[use_tools=patrick_fixer])\n",
    "    )\n",
    "\n",
    "results = eval(basic_mcp,log_level=\"info\",display=\"full\",fail_on_error=True,time_limit=60, sandbox_cleanup=True)\n",
    "p4 = pretty_results(results,show_events=False)\n",
    "print(p4)"
   ]
  }
 ],
 "metadata": {
  "kernelspec": {
   "display_name": "Python 3",
   "language": "python",
   "name": "python3"
  },
  "language_info": {
   "codemirror_mode": {
    "name": "ipython",
    "version": 3
   },
   "file_extension": ".py",
   "mimetype": "text/x-python",
   "name": "python",
   "nbconvert_exporter": "python",
   "pygments_lexer": "ipython3",
   "version": "3.12.10"
  }
 },
 "nbformat": 4,
 "nbformat_minor": 2
}
