{
 "cells": [
  {
   "cell_type": "markdown",
   "metadata": {},
   "source": [
    "# Testing - MCP\n",
    "## Introduction"
   ]
  },
  {
   "cell_type": "markdown",
   "metadata": {},
   "source": [
    "## Installation"
   ]
  },
  {
   "cell_type": "markdown",
   "metadata": {},
   "source": [
    "Note : we are pinning the inspect_ai due to a recent breaking change"
   ]
  },
  {
   "cell_type": "code",
   "execution_count": 2,
   "metadata": {},
   "outputs": [
    {
     "name": "stdout",
     "output_type": "stream",
     "text": [
      "\n",
      "\u001b[1m[\u001b[0m\u001b[34;49mnotice\u001b[0m\u001b[1;39;49m]\u001b[0m\u001b[39;49m A new release of pip is available: \u001b[0m\u001b[31;49m25.0.1\u001b[0m\u001b[39;49m -> \u001b[0m\u001b[32;49m25.1.1\u001b[0m\n",
      "\u001b[1m[\u001b[0m\u001b[34;49mnotice\u001b[0m\u001b[1;39;49m]\u001b[0m\u001b[39;49m To update, run: \u001b[0m\u001b[32;49mpip install --upgrade pip\u001b[0m\n",
      "Note: you may need to restart the kernel to use updated packages.\n"
     ]
    }
   ],
   "source": [
    "%pip install -q openai anthropic ipywidgets colorama mcp\n",
    "import os\n",
    "os.environ['XDG_RUNTIME_DIR']=\"/tmp\"\n",
    "os.environ['INSPECT_EVAL_MODEL'] = \"openai/gpt-4o-mini\"\n",
    "\n",
    "from helpers.reporter.pretty import pretty_results"
   ]
  },
  {
   "cell_type": "markdown",
   "metadata": {},
   "source": [
    "## Adding MCP stdio"
   ]
  },
  {
   "cell_type": "markdown",
   "metadata": {},
   "source": [
    "# these ar installed in the docker image\n",
    "#%pip install -q mcp mcp-server-tree-sitter mcp-server-git"
   ]
  },
  {
   "cell_type": "code",
   "execution_count": null,
   "metadata": {},
   "outputs": [
    {
     "name": "stdout",
     "output_type": "stream",
     "text": [
      "Compose can now delegate builds to bake for better performance.\n",
      " To do so, set COMPOSE_BAKE=true.\n",
      "#0 building with \"default\" instance using docker driver\n",
      "\n",
      "#1 [mcp internal] load build definition from Dockerfile.mcp\n",
      "#1 transferring dockerfile: 1.64kB done\n",
      "#1 DONE 0.0s\n",
      "\n",
      "#2 [mcp internal] load metadata for docker.io/aisiuk/inspect-tool-support:latest\n",
      "#2 DONE 0.0s\n",
      "\n",
      "#3 [mcp internal] load .dockerignore\n",
      "#3 transferring context: 2B done\n",
      "#3 DONE 0.0s\n",
      "\n",
      "#4 [mcp  1/11] FROM docker.io/aisiuk/inspect-tool-support:latest\n",
      "#4 DONE 0.0s\n",
      "\n",
      "#5 [mcp  8/11] RUN npm install -g @openai/codex@0.1.2504211509\n",
      "#5 CACHED\n",
      "\n",
      "#6 [mcp  7/11] RUN npm install -g @anthropic-ai/claude-code\n",
      "#6 CACHED\n",
      "\n",
      "#7 [mcp  5/11] RUN python3 -m playwright install --with-deps chromium\n",
      "#7 CACHED\n",
      "\n",
      "#8 [mcp  6/11] RUN npm install -g @modelcontextprotocol/server-filesystem\n",
      "#8 CACHED\n",
      "\n",
      "#9 [mcp  2/11] RUN apt-get update && apt-get install -y --no-install-recommends     curl     && curl -fsSL https://deb.nodesource.com/setup_22.x | bash -     && apt-get install -y --no-install-recommends nodejs     && apt-get clean     && rm -rf /var/lib/apt/lists/*\n",
      "#9 CACHED\n",
      "\n",
      "#10 [mcp  9/11] RUN pip install mcp-server-tree-sitter\n",
      "#10 CACHED\n",
      "\n",
      "#11 [mcp 10/11] RUN pip install mcp-server-git\n",
      "#11 CACHED\n",
      "\n",
      "#12 [mcp  3/11] RUN pip install aider-chat\n",
      "#12 CACHED\n",
      "\n",
      "#13 [mcp  4/11] RUN pip install playwright\n",
      "#13 CACHED\n",
      "\n",
      "#14 [mcp 11/11] RUN git config --global --add safe.directory /my-repo\n",
      "#14 CACHED\n",
      "\n",
      "#15 [mcp] exporting to image\n",
      "#15 exporting layers done\n",
      "#15 writing image sha256:83475f457d079ce07e48c9ee5cb4b749d9cd35818d7102407705a5a14e40bbdd done\n",
      "#15 naming to docker.io/library/mymcp done\n",
      "#15 DONE 0.0s\n",
      "\n",
      "#16 [mcp] resolving provenance for metadata file\n",
      "#16 DONE 0.0s\n"
     ]
    },
    {
     "data": {
      "application/vnd.jupyter.widget-view+json": {
       "model_id": "738dc03f3d6b4167b7d5e6b7cabf366d",
       "version_major": 2,
       "version_minor": 0
      },
      "text/plain": [
       "Output()"
      ]
     },
     "metadata": {},
     "output_type": "display_data"
    },
    {
     "name": "stderr",
     "output_type": "stream",
     "text": [
      " mcp  Built\n"
     ]
    },
    {
     "name": "stdout",
     "output_type": "stream",
     "text": [
      "\n"
     ]
    },
    {
     "data": {
      "text/html": [
       "<pre style=\"white-space:pre;overflow-x:auto;line-height:normal;font-family:Menlo,'DejaVu Sans Mono',consolas,'Courier New',monospace\"></pre>\n"
      ],
      "text/plain": []
     },
     "metadata": {},
     "output_type": "display_data"
    },
    {
     "ename": "NameError",
     "evalue": "name 'pretty_results' is not defined",
     "output_type": "error",
     "traceback": [
      "\u001b[31m---------------------------------------------------------------------------\u001b[39m",
      "\u001b[31mNameError\u001b[39m                                 Traceback (most recent call last)",
      "\u001b[36mCell\u001b[39m\u001b[36m \u001b[39m\u001b[32mIn[1]\u001b[39m\u001b[32m, line 56\u001b[39m\n\u001b[32m     42\u001b[39m     \u001b[38;5;28;01mreturn\u001b[39;00m Task(\n\u001b[32m     43\u001b[39m         dataset=[Sample(\n\u001b[32m     44\u001b[39m             \u001b[33m\"\u001b[39m\u001b[33mWhat can you tell me about the current project in /my-repo? And check for syntax errors\u001b[39m\u001b[33m\"\u001b[39m,\n\u001b[32m   (...)\u001b[39m\u001b[32m     52\u001b[39m         \u001b[38;5;66;03m# solver=[use_tools=patrick_fixer])\u001b[39;00m\n\u001b[32m     53\u001b[39m     )\n\u001b[32m     55\u001b[39m results = \u001b[38;5;28meval\u001b[39m(basic_mcp,log_level=\u001b[33m\"\u001b[39m\u001b[33minfo\u001b[39m\u001b[33m\"\u001b[39m,display=\u001b[33m\"\u001b[39m\u001b[33mfull\u001b[39m\u001b[33m\"\u001b[39m,ftime_limit=\u001b[32m60\u001b[39m)\n\u001b[32m---> \u001b[39m\u001b[32m56\u001b[39m \u001b[38;5;28mprint\u001b[39m(\u001b[43mpretty_results\u001b[49m(results))\n",
      "\u001b[31mNameError\u001b[39m: name 'pretty_results' is not defined"
     ]
    }
   ],
   "source": [
    "from inspect_ai.tool import mcp_server_sandbox, mcp_server_stdio\n",
    "from inspect_ai import Task, eval, task\n",
    "\n",
    "from inspect_ai.scorer import includes\n",
    "from inspect_ai.dataset import Sample\n",
    "from inspect_ai.agent import react\n",
    "\n",
    "@task\n",
    "def basic_mcp():\n",
    "    patrick_scanner = mcp_server_stdio(\n",
    "        command=\"python3\",\n",
    "        args=[\"./tools/patrick_scanner.py\"]\n",
    "    )\n",
    "\n",
    "    patrick_fixer = mcp_server_stdio(\n",
    "        command=\"python3\",\n",
    "        args=[\"./tools/patrick_fixer.py\"]\n",
    "    )\n",
    "\n",
    "    git_server = mcp_server_stdio(\n",
    "        command=\"python3\",\n",
    "        args=[\"-m\", \"mcp_server_git\", \"--repository\", \"/my-repo\"]\n",
    "    )\n",
    "\n",
    "    treesitter_server = mcp_server_stdio(\n",
    "            command=\"python3\",\n",
    "            args=[\"-m\",\"mcp_server_tree_sitter.server\" ]\n",
    "        )\n",
    "\n",
    "    treesitter_server_sandbox = mcp_server_sandbox(\n",
    "         command=\"python3\",\n",
    "            args=[\"-m\",\"mcp_server_tree_sitter.server\" ],\n",
    "    )\n",
    "\n",
    "    fs_server = mcp_server_sandbox(\n",
    "       # sandbox=\"mcp\",\n",
    "        command=\"mcp-server-filesystem\",\n",
    "        args=[\"/\"]\n",
    "    )\n",
    "\n",
    "    return Task(\n",
    "        dataset=[Sample(\n",
    "            \"What can you tell me about the current project in /my-repo? And check for syntax errors\",\n",
    "        )],\n",
    "        sandbox=(\"docker\",\"compose.yaml\"), # yaml contains the default for a sandbox\n",
    "        solver=[react(tools=[treesitter_server_sandbox, fs_server])],\n",
    "        \n",
    "        scorer=[\n",
    "        ],\n",
    "\n",
    "        # solver=[use_tools=patrick_fixer])\n",
    "    )\n",
    "\n",
    "results = eval(basic_mcp,log_level=\"info\",display=\"full\",ftime_limit=60)\n",
    "print(pretty_results(results))"
   ]
  }
 ],
 "metadata": {
  "kernelspec": {
   "display_name": "Python 3",
   "language": "python",
   "name": "python3"
  },
  "language_info": {
   "codemirror_mode": {
    "name": "ipython",
    "version": 3
   },
   "file_extension": ".py",
   "mimetype": "text/x-python",
   "name": "python",
   "nbconvert_exporter": "python",
   "pygments_lexer": "ipython3",
   "version": "3.12.10"
  }
 },
 "nbformat": 4,
 "nbformat_minor": 2
}
