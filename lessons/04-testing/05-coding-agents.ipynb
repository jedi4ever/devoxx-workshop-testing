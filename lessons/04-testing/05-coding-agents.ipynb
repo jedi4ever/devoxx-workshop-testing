{
 "cells": [
  {
   "cell_type": "markdown",
   "metadata": {},
   "source": [
    "## Coding Agents - Experimental"
   ]
  },
  {
   "cell_type": "markdown",
   "metadata": {},
   "source": [
    "## Installation"
   ]
  },
  {
   "cell_type": "markdown",
   "metadata": {},
   "source": [
    "Note : we are pinning the inspect_ai due to a recent breaking change"
   ]
  },
  {
   "cell_type": "code",
   "execution_count": 4,
   "metadata": {},
   "outputs": [
    {
     "name": "stdout",
     "output_type": "stream",
     "text": [
      "\n",
      "\u001b[1m[\u001b[0m\u001b[34;49mnotice\u001b[0m\u001b[1;39;49m]\u001b[0m\u001b[39;49m A new release of pip is available: \u001b[0m\u001b[31;49m25.0.1\u001b[0m\u001b[39;49m -> \u001b[0m\u001b[32;49m25.1.1\u001b[0m\n",
      "\u001b[1m[\u001b[0m\u001b[34;49mnotice\u001b[0m\u001b[1;39;49m]\u001b[0m\u001b[39;49m To update, run: \u001b[0m\u001b[32;49mpip install --upgrade pip\u001b[0m\n",
      "Note: you may need to restart the kernel to use updated packages.\n"
     ]
    }
   ],
   "source": [
    "%pip install -q openai anthropic ipywidgets colorama\n",
    "import os\n",
    "os.environ['XDG_RUNTIME_DIR']=\"/tmp\"\n",
    "from helpers.reporter.pretty import pretty_results"
   ]
  },
  {
   "cell_type": "markdown",
   "metadata": {},
   "source": [
    "## Run a shell one with tools"
   ]
  },
  {
   "cell_type": "markdown",
   "metadata": {},
   "source": [
    "We add all the models we want to test across"
   ]
  },
  {
   "cell_type": "code",
   "execution_count": null,
   "metadata": {},
   "outputs": [
    {
     "name": "stdout",
     "output_type": "stream",
     "text": [
      "Compose can now delegate builds to bake for better performance.\n",
      " To do so, set COMPOSE_BAKE=true.\n",
      "#0 building with \"default\" instance using docker driver\n",
      "\n",
      "#1 [mcp internal] load build definition from Dockerfile.mcp\n",
      "#1 transferring dockerfile: 1.64kB done\n",
      "#1 DONE 0.0s\n",
      "\n",
      "#2 [mcp internal] load metadata for docker.io/aisiuk/inspect-tool-support:latest\n",
      "#2 DONE 0.0s\n",
      "\n",
      "#3 [mcp internal] load .dockerignore\n",
      "#3 transferring context: 2B done\n",
      "#3 DONE 0.0s\n",
      "\n",
      "#4 [mcp  1/11] FROM docker.io/aisiuk/inspect-tool-support:latest\n",
      "#4 DONE 0.0s\n",
      "\n",
      "#5 [mcp  8/11] RUN npm install -g @openai/codex@0.1.2504211509\n",
      "#5 CACHED\n",
      "\n",
      "#6 [mcp  4/11] RUN pip install playwright\n",
      "#6 CACHED\n",
      "\n",
      "#7 [mcp  6/11] RUN npm install -g @modelcontextprotocol/server-filesystem\n",
      "#7 CACHED\n",
      "\n",
      "#8 [mcp  5/11] RUN python3 -m playwright install --with-deps chromium\n",
      "#8 CACHED\n",
      "\n",
      "#9 [mcp  2/11] RUN apt-get update && apt-get install -y --no-install-recommends     curl     && curl -fsSL https://deb.nodesource.com/setup_22.x | bash -     && apt-get install -y --no-install-recommends nodejs     && apt-get clean     && rm -rf /var/lib/apt/lists/*\n",
      "#9 CACHED\n",
      "\n",
      "#10 [mcp  3/11] RUN pip install aider-chat\n",
      "#10 CACHED\n",
      "\n",
      "#11 [mcp 10/11] RUN pip install mcp-server-git\n",
      "#11 CACHED\n",
      "\n",
      "#12 [mcp  7/11] RUN npm install -g @anthropic-ai/claude-code\n",
      "#12 CACHED\n",
      "\n",
      "#13 [mcp  9/11] RUN pip install mcp-server-tree-sitter\n",
      "#13 CACHED\n",
      "\n",
      "#14 [mcp 11/11] RUN git config --global --add safe.directory /my-repo\n",
      "#14 CACHED\n",
      "\n",
      "#15 [mcp] exporting to image\n",
      "#15 exporting layers done\n",
      "#15 writing image sha256:f10e70b20d5dcb30fffcde237147e2949a26729031aa0d84937d8ab886902c47 done\n",
      "#15 naming to docker.io/library/mymcp done\n",
      "#15 DONE 0.0s\n",
      "\n",
      "#16 [mcp] resolving provenance for metadata file\n",
      "#16 DONE 0.0s\n"
     ]
    },
    {
     "name": "stderr",
     "output_type": "stream",
     "text": [
      " mcp  Built\n"
     ]
    },
    {
     "name": "stdout",
     "output_type": "stream",
     "text": [
      "\n"
     ]
    },
    {
     "data": {
      "text/html": [
       "<pre style=\"white-space:pre;overflow-x:auto;line-height:normal;font-family:Menlo,'DejaVu Sans Mono',consolas,'Courier New',monospace\"><span style=\"color: #7fbfbf; text-decoration-color: #7fbfbf\">[05/07/25 11:38:49] </span><span style=\"color: #000080; text-decoration-color: #000080\">INFO    </span> command : **rm -rf /my-repo/workshop**                                     <a href=\"file:///workspaces/workshop-testing/lessons/04-testing/helpers/solver/shell.py\" target=\"_blank\"><span style=\"color: #7f7f7f; text-decoration-color: #7f7f7f\">shell.py</span></a><span style=\"color: #7f7f7f; text-decoration-color: #7f7f7f\">:</span><a href=\"file:///workspaces/workshop-testing/lessons/04-testing/helpers/solver/shell.py#65\" target=\"_blank\"><span style=\"color: #7f7f7f; text-decoration-color: #7f7f7f\">65</span></a>\n",
       "</pre>\n"
      ],
      "text/plain": [
       "\u001b[2;36m[05/07/25 11:38:49]\u001b[0m\u001b[2;36m \u001b[0m\u001b[34mINFO    \u001b[0m command : **rm -rf /my-repo/workshop**                                     \u001b]8;id=787192;file:///workspaces/workshop-testing/lessons/04-testing/helpers/solver/shell.py\u001b\\\u001b[2mshell.py\u001b[0m\u001b]8;;\u001b\\\u001b[2m:\u001b[0m\u001b]8;id=407260;file:///workspaces/workshop-testing/lessons/04-testing/helpers/solver/shell.py#65\u001b\\\u001b[2m65\u001b[0m\u001b]8;;\u001b\\\n"
      ]
     },
     "metadata": {},
     "output_type": "display_data"
    },
    {
     "data": {
      "text/html": [
       "<pre style=\"white-space:pre;overflow-x:auto;line-height:normal;font-family:Menlo,'DejaVu Sans Mono',consolas,'Courier New',monospace\"><span style=\"color: #7fbfbf; text-decoration-color: #7fbfbf\">[05/07/25 11:38:52] </span><span style=\"color: #000080; text-decoration-color: #000080\">INFO    </span> script exec result :                                                       <a href=\"file:///workspaces/workshop-testing/lessons/04-testing/helpers/solver/shell.py\" target=\"_blank\"><span style=\"color: #7f7f7f; text-decoration-color: #7f7f7f\">shell.py</span></a><span style=\"color: #7f7f7f; text-decoration-color: #7f7f7f\">:</span><a href=\"file:///workspaces/workshop-testing/lessons/04-testing/helpers/solver/shell.py#81\" target=\"_blank\"><span style=\"color: #7f7f7f; text-decoration-color: #7f7f7f\">81</span></a>\n",
       "</pre>\n"
      ],
      "text/plain": [
       "\u001b[2;36m[05/07/25 11:38:52]\u001b[0m\u001b[2;36m \u001b[0m\u001b[34mINFO    \u001b[0m script exec result :                                                       \u001b]8;id=253962;file:///workspaces/workshop-testing/lessons/04-testing/helpers/solver/shell.py\u001b\\\u001b[2mshell.py\u001b[0m\u001b]8;;\u001b\\\u001b[2m:\u001b[0m\u001b]8;id=504565;file:///workspaces/workshop-testing/lessons/04-testing/helpers/solver/shell.py#81\u001b\\\u001b[2m81\u001b[0m\u001b]8;;\u001b\\\n"
      ]
     },
     "metadata": {},
     "output_type": "display_data"
    },
    {
     "data": {
      "text/html": [
       "<pre style=\"white-space:pre;overflow-x:auto;line-height:normal;font-family:Menlo,'DejaVu Sans Mono',consolas,'Courier New',monospace\"><span style=\"color: #7fbfbf; text-decoration-color: #7fbfbf\">                    </span><span style=\"color: #000080; text-decoration-color: #000080\">INFO    </span> command : **mkdir -p /my-repo/workshop**                                   <a href=\"file:///workspaces/workshop-testing/lessons/04-testing/helpers/solver/shell.py\" target=\"_blank\"><span style=\"color: #7f7f7f; text-decoration-color: #7f7f7f\">shell.py</span></a><span style=\"color: #7f7f7f; text-decoration-color: #7f7f7f\">:</span><a href=\"file:///workspaces/workshop-testing/lessons/04-testing/helpers/solver/shell.py#65\" target=\"_blank\"><span style=\"color: #7f7f7f; text-decoration-color: #7f7f7f\">65</span></a>\n",
       "</pre>\n"
      ],
      "text/plain": [
       "\u001b[2;36m                   \u001b[0m\u001b[2;36m \u001b[0m\u001b[34mINFO    \u001b[0m command : **mkdir -p /my-repo/workshop**                                   \u001b]8;id=382281;file:///workspaces/workshop-testing/lessons/04-testing/helpers/solver/shell.py\u001b\\\u001b[2mshell.py\u001b[0m\u001b]8;;\u001b\\\u001b[2m:\u001b[0m\u001b]8;id=308694;file:///workspaces/workshop-testing/lessons/04-testing/helpers/solver/shell.py#65\u001b\\\u001b[2m65\u001b[0m\u001b]8;;\u001b\\\n"
      ]
     },
     "metadata": {},
     "output_type": "display_data"
    },
    {
     "data": {
      "text/html": [
       "<pre style=\"white-space:pre;overflow-x:auto;line-height:normal;font-family:Menlo,'DejaVu Sans Mono',consolas,'Courier New',monospace\"><span style=\"color: #7fbfbf; text-decoration-color: #7fbfbf\">                    </span><span style=\"color: #000080; text-decoration-color: #000080\">INFO    </span> script exec result :                                                       <a href=\"file:///workspaces/workshop-testing/lessons/04-testing/helpers/solver/shell.py\" target=\"_blank\"><span style=\"color: #7f7f7f; text-decoration-color: #7f7f7f\">shell.py</span></a><span style=\"color: #7f7f7f; text-decoration-color: #7f7f7f\">:</span><a href=\"file:///workspaces/workshop-testing/lessons/04-testing/helpers/solver/shell.py#81\" target=\"_blank\"><span style=\"color: #7f7f7f; text-decoration-color: #7f7f7f\">81</span></a>\n",
       "</pre>\n"
      ],
      "text/plain": [
       "\u001b[2;36m                   \u001b[0m\u001b[2;36m \u001b[0m\u001b[34mINFO    \u001b[0m script exec result :                                                       \u001b]8;id=583775;file:///workspaces/workshop-testing/lessons/04-testing/helpers/solver/shell.py\u001b\\\u001b[2mshell.py\u001b[0m\u001b]8;;\u001b\\\u001b[2m:\u001b[0m\u001b]8;id=612293;file:///workspaces/workshop-testing/lessons/04-testing/helpers/solver/shell.py#81\u001b\\\u001b[2m81\u001b[0m\u001b]8;;\u001b\\\n"
      ]
     },
     "metadata": {},
     "output_type": "display_data"
    },
    {
     "data": {
      "text/html": [
       "<pre style=\"white-space:pre;overflow-x:auto;line-height:normal;font-family:Menlo,'DejaVu Sans Mono',consolas,'Courier New',monospace\"><span style=\"color: #7fbfbf; text-decoration-color: #7fbfbf\">                    </span><span style=\"color: #000080; text-decoration-color: #000080\">INFO    </span> question to codex : Generate a javascript file name hello-world.js   <a href=\"file:///workspaces/workshop-testing/lessons/04-testing/helpers/solver/codex_coder.py\" target=\"_blank\"><span style=\"color: #7f7f7f; text-decoration-color: #7f7f7f\">codex_coder.py</span></a><span style=\"color: #7f7f7f; text-decoration-color: #7f7f7f\">:</span><a href=\"file:///workspaces/workshop-testing/lessons/04-testing/helpers/solver/codex_coder.py#49\" target=\"_blank\"><span style=\"color: #7f7f7f; text-decoration-color: #7f7f7f\">49</span></a>\n",
       "<span style=\"color: #7fbfbf; text-decoration-color: #7fbfbf\">                    </span>         that prints out hello.                                               <span style=\"color: #7f7f7f; text-decoration-color: #7f7f7f\">                 </span>\n",
       "<span style=\"color: #7fbfbf; text-decoration-color: #7fbfbf\">                    </span>                     Now also add tests to the code , so npm run test work.   <span style=\"color: #7f7f7f; text-decoration-color: #7f7f7f\">                 </span>\n",
       "<span style=\"color: #7fbfbf; text-decoration-color: #7fbfbf\">                    </span>                     So if you need to install any packages, do that too.     <span style=\"color: #7f7f7f; text-decoration-color: #7f7f7f\">                 </span>\n",
       "</pre>\n"
      ],
      "text/plain": [
       "\u001b[2;36m                   \u001b[0m\u001b[2;36m \u001b[0m\u001b[34mINFO    \u001b[0m question to codex : Generate a javascript file name hello-world.js   \u001b]8;id=700730;file:///workspaces/workshop-testing/lessons/04-testing/helpers/solver/codex_coder.py\u001b\\\u001b[2mcodex_coder.py\u001b[0m\u001b]8;;\u001b\\\u001b[2m:\u001b[0m\u001b]8;id=827913;file:///workspaces/workshop-testing/lessons/04-testing/helpers/solver/codex_coder.py#49\u001b\\\u001b[2m49\u001b[0m\u001b]8;;\u001b\\\n",
       "\u001b[2;36m                    \u001b[0m         that prints out hello.                                               \u001b[2m                 \u001b[0m\n",
       "\u001b[2;36m                    \u001b[0m                     Now also add tests to the code , so npm run test work.   \u001b[2m                 \u001b[0m\n",
       "\u001b[2;36m                    \u001b[0m                     So if you need to install any packages, do that too.     \u001b[2m                 \u001b[0m\n"
      ]
     },
     "metadata": {},
     "output_type": "display_data"
    },
    {
     "data": {
      "text/html": [
       "<pre style=\"white-space:pre;overflow-x:auto;line-height:normal;font-family:Menlo,'DejaVu Sans Mono',consolas,'Courier New',monospace\"><span style=\"color: #7fbfbf; text-decoration-color: #7fbfbf\">                    </span><span style=\"color: #000080; text-decoration-color: #000080\">INFO    </span> making sure ~/.codex exists                                          <a href=\"file:///workspaces/workshop-testing/lessons/04-testing/helpers/solver/codex_coder.py\" target=\"_blank\"><span style=\"color: #7f7f7f; text-decoration-color: #7f7f7f\">codex_coder.py</span></a><span style=\"color: #7f7f7f; text-decoration-color: #7f7f7f\">:</span><a href=\"file:///workspaces/workshop-testing/lessons/04-testing/helpers/solver/codex_coder.py#60\" target=\"_blank\"><span style=\"color: #7f7f7f; text-decoration-color: #7f7f7f\">60</span></a>\n",
       "</pre>\n"
      ],
      "text/plain": [
       "\u001b[2;36m                   \u001b[0m\u001b[2;36m \u001b[0m\u001b[34mINFO    \u001b[0m making sure ~/.codex exists                                          \u001b]8;id=261192;file:///workspaces/workshop-testing/lessons/04-testing/helpers/solver/codex_coder.py\u001b\\\u001b[2mcodex_coder.py\u001b[0m\u001b]8;;\u001b\\\u001b[2m:\u001b[0m\u001b]8;id=951710;file:///workspaces/workshop-testing/lessons/04-testing/helpers/solver/codex_coder.py#60\u001b\\\u001b[2m60\u001b[0m\u001b]8;;\u001b\\\n"
      ]
     },
     "metadata": {},
     "output_type": "display_data"
    },
    {
     "data": {
      "text/html": [
       "<pre style=\"white-space:pre;overflow-x:auto;line-height:normal;font-family:Menlo,'DejaVu Sans Mono',consolas,'Courier New',monospace\"><span style=\"color: #7fbfbf; text-decoration-color: #7fbfbf\">[05/07/25 11:38:53] </span><span style=\"color: #000080; text-decoration-color: #000080\">INFO    </span> writing ~/.codex/update-check.json                                   <a href=\"file:///workspaces/workshop-testing/lessons/04-testing/helpers/solver/codex_coder.py\" target=\"_blank\"><span style=\"color: #7f7f7f; text-decoration-color: #7f7f7f\">codex_coder.py</span></a><span style=\"color: #7f7f7f; text-decoration-color: #7f7f7f\">:</span><a href=\"file:///workspaces/workshop-testing/lessons/04-testing/helpers/solver/codex_coder.py#63\" target=\"_blank\"><span style=\"color: #7f7f7f; text-decoration-color: #7f7f7f\">63</span></a>\n",
       "</pre>\n"
      ],
      "text/plain": [
       "\u001b[2;36m[05/07/25 11:38:53]\u001b[0m\u001b[2;36m \u001b[0m\u001b[34mINFO    \u001b[0m writing ~/.codex/update-check.json                                   \u001b]8;id=818560;file:///workspaces/workshop-testing/lessons/04-testing/helpers/solver/codex_coder.py\u001b\\\u001b[2mcodex_coder.py\u001b[0m\u001b]8;;\u001b\\\u001b[2m:\u001b[0m\u001b]8;id=542754;file:///workspaces/workshop-testing/lessons/04-testing/helpers/solver/codex_coder.py#63\u001b\\\u001b[2m63\u001b[0m\u001b]8;;\u001b\\\n"
      ]
     },
     "metadata": {},
     "output_type": "display_data"
    },
    {
     "data": {
      "text/html": [
       "<pre style=\"white-space:pre;overflow-x:auto;line-height:normal;font-family:Menlo,'DejaVu Sans Mono',consolas,'Courier New',monospace\"><span style=\"color: #7fbfbf; text-decoration-color: #7fbfbf\">                    </span><span style=\"color: #000080; text-decoration-color: #000080\">INFO    </span> cwd =  /my-repo/workshop                                             <a href=\"file:///workspaces/workshop-testing/lessons/04-testing/helpers/solver/codex_coder.py\" target=\"_blank\"><span style=\"color: #7f7f7f; text-decoration-color: #7f7f7f\">codex_coder.py</span></a><span style=\"color: #7f7f7f; text-decoration-color: #7f7f7f\">:</span><a href=\"file:///workspaces/workshop-testing/lessons/04-testing/helpers/solver/codex_coder.py#71\" target=\"_blank\"><span style=\"color: #7f7f7f; text-decoration-color: #7f7f7f\">71</span></a>\n",
       "</pre>\n"
      ],
      "text/plain": [
       "\u001b[2;36m                   \u001b[0m\u001b[2;36m \u001b[0m\u001b[34mINFO    \u001b[0m cwd =  /my-repo/workshop                                             \u001b]8;id=569005;file:///workspaces/workshop-testing/lessons/04-testing/helpers/solver/codex_coder.py\u001b\\\u001b[2mcodex_coder.py\u001b[0m\u001b]8;;\u001b\\\u001b[2m:\u001b[0m\u001b]8;id=770868;file:///workspaces/workshop-testing/lessons/04-testing/helpers/solver/codex_coder.py#71\u001b\\\u001b[2m71\u001b[0m\u001b]8;;\u001b\\\n"
      ]
     },
     "metadata": {},
     "output_type": "display_data"
    },
    {
     "data": {
      "application/vnd.jupyter.widget-view+json": {
       "model_id": "26f32a90f63e4e11a800602ed79e24a3",
       "version_major": 2,
       "version_minor": 0
      },
      "text/plain": [
       "Output()"
      ]
     },
     "metadata": {},
     "output_type": "display_data"
    },
    {
     "data": {
      "text/html": [
       "<pre style=\"white-space:pre;overflow-x:auto;line-height:normal;font-family:Menlo,'DejaVu Sans Mono',consolas,'Courier New',monospace\"></pre>\n"
      ],
      "text/plain": []
     },
     "metadata": {},
     "output_type": "display_data"
    },
    {
     "data": {
      "text/html": [
       "<pre style=\"white-space:pre;overflow-x:auto;line-height:normal;font-family:Menlo,'DejaVu Sans Mono',consolas,'Courier New',monospace\">╭─────────────────────────────────────────────────────────────────────────────────────────────────────────────────╮\n",
       "│ <span style=\"color: #000080; text-decoration-color: #000080; font-weight: bold\">Cleaning up Docker environments (please do not interrupt this operation!):</span>                                      │\n",
       "╰─────────────────────────────────────────────────────────────────────────────────────────────────────────────────╯\n",
       "</pre>\n"
      ],
      "text/plain": [
       "╭─────────────────────────────────────────────────────────────────────────────────────────────────────────────────╮\n",
       "│ \u001b[1;34mCleaning up Docker environments (please do not interrupt this operation!):\u001b[0m                                      │\n",
       "╰─────────────────────────────────────────────────────────────────────────────────────────────────────────────────╯\n"
      ]
     },
     "metadata": {},
     "output_type": "display_data"
    },
    {
     "name": "stderr",
     "output_type": "stream",
     "text": [
      " Container inspect-coding_agent-igpazi3-mcp-1  Stopping\n",
      " Container inspect-coding_agent-igpazi3-mcp-1  Stopped\n",
      " Container inspect-coding_agent-igpazi3-mcp-1  Removing\n",
      " Container inspect-coding_agent-igpazi3-mcp-1  Removed\n",
      " Network inspect-coding_agent-igpazi3_default  Removing\n",
      " Network inspect-coding_agent-igpazi3_default  Removed\n"
     ]
    },
    {
     "ename": "KeyboardInterrupt",
     "evalue": "",
     "output_type": "error",
     "traceback": [
      "\u001b[31m---------------------------------------------------------------------------\u001b[39m",
      "\u001b[31mKeyboardInterrupt\u001b[39m                         Traceback (most recent call last)",
      "\u001b[36mCell\u001b[39m\u001b[36m \u001b[39m\u001b[32mIn[5]\u001b[39m\u001b[32m, line 50\u001b[39m\n\u001b[32m     30\u001b[39m     repo_url = \u001b[33m\"\u001b[39m\u001b[33mhttps://github.com/jedi4ever/from-prompt-to-mcp.git\u001b[39m\u001b[33m\"\u001b[39m\n\u001b[32m     32\u001b[39m     \u001b[38;5;28;01mreturn\u001b[39;00m Task(\n\u001b[32m     33\u001b[39m         dataset=dataset,\n\u001b[32m     34\u001b[39m         solver=[\n\u001b[32m   (...)\u001b[39m\u001b[32m     47\u001b[39m         sandbox=\u001b[33m\"\u001b[39m\u001b[33mdocker\u001b[39m\u001b[33m\"\u001b[39m\n\u001b[32m     48\u001b[39m     )\n\u001b[32m---> \u001b[39m\u001b[32m50\u001b[39m results = \u001b[38;5;28;43meval\u001b[39;49m\u001b[43m(\u001b[49m\u001b[43mcoding_agent_run\u001b[49m\u001b[43m,\u001b[49m\u001b[43m \u001b[49m\u001b[43mlog_level\u001b[49m\u001b[43m=\u001b[49m\u001b[33;43m\"\u001b[39;49m\u001b[33;43minfo\u001b[39;49m\u001b[33;43m\"\u001b[39;49m\u001b[43m,\u001b[49m\u001b[43mdisplay\u001b[49m\u001b[43m=\u001b[49m\u001b[33;43m\"\u001b[39;49m\u001b[33;43mconversation\u001b[39;49m\u001b[33;43m\"\u001b[39;49m\u001b[43m)\u001b[49m\n\u001b[32m     51\u001b[39m \u001b[38;5;28mprint\u001b[39m(pretty_results(results))\n",
      "\u001b[36mFile \u001b[39m\u001b[32m~/.local/lib/python3.12/site-packages/inspect_ai/_eval/eval.py:248\u001b[39m, in \u001b[36meval\u001b[39m\u001b[34m(tasks, model, model_base_url, model_args, model_roles, task_args, sandbox, sandbox_cleanup, solver, tags, metadata, trace, display, approval, log_level, log_level_transcript, log_dir, log_format, limit, sample_id, epochs, fail_on_error, retry_on_error, debug_errors, message_limit, token_limit, time_limit, working_limit, max_samples, max_tasks, max_subprocesses, max_sandboxes, log_samples, log_realtime, log_images, log_buffer, log_shared, score, score_display, **kwargs)\u001b[39m\n\u001b[32m    245\u001b[39m         \u001b[38;5;28;01melse\u001b[39;00m:\n\u001b[32m    246\u001b[39m             \u001b[38;5;28;01mraise\u001b[39;00m\n\u001b[32m--> \u001b[39m\u001b[32m248\u001b[39m \u001b[38;5;28;01mreturn\u001b[39;00m \u001b[43mtask_display\u001b[49m\u001b[43m(\u001b[49m\u001b[43m)\u001b[49m\u001b[43m.\u001b[49m\u001b[43mrun_task_app\u001b[49m\u001b[43m(\u001b[49m\u001b[43mrun_task_app\u001b[49m\u001b[43m)\u001b[49m\n",
      "\u001b[36mFile \u001b[39m\u001b[32m~/.local/lib/python3.12/site-packages/inspect_ai/_display/rich/display.py:80\u001b[39m, in \u001b[36mRichDisplay.run_task_app\u001b[39m\u001b[34m(self, main)\u001b[39m\n\u001b[32m     77\u001b[39m \u001b[38;5;129m@override\u001b[39m\n\u001b[32m     78\u001b[39m \u001b[38;5;28;01mdef\u001b[39;00m\u001b[38;5;250m \u001b[39m\u001b[34mrun_task_app\u001b[39m(\u001b[38;5;28mself\u001b[39m, main: Callable[[], Coroutine[\u001b[38;5;28;01mNone\u001b[39;00m, \u001b[38;5;28;01mNone\u001b[39;00m, TR]]) -> TR:\n\u001b[32m     79\u001b[39m     \u001b[38;5;28;01mif\u001b[39;00m running_in_notebook():\n\u001b[32m---> \u001b[39m\u001b[32m80\u001b[39m         \u001b[38;5;28;01mreturn\u001b[39;00m \u001b[43mrun_coroutine\u001b[49m\u001b[43m(\u001b[49m\u001b[43mmain\u001b[49m\u001b[43m(\u001b[49m\u001b[43m)\u001b[49m\u001b[43m)\u001b[49m\n\u001b[32m     81\u001b[39m     \u001b[38;5;28;01melse\u001b[39;00m:\n\u001b[32m     82\u001b[39m         \u001b[38;5;28;01mreturn\u001b[39;00m anyio.run(main, backend=configured_async_backend())\n",
      "\u001b[36mFile \u001b[39m\u001b[32m~/.local/lib/python3.12/site-packages/inspect_ai/_util/_async.py:116\u001b[39m, in \u001b[36mrun_coroutine\u001b[39m\u001b[34m(coroutine)\u001b[39m\n\u001b[32m    114\u001b[39m \u001b[38;5;28;01mif\u001b[39;00m running_in_notebook():\n\u001b[32m    115\u001b[39m     init_nest_asyncio()\n\u001b[32m--> \u001b[39m\u001b[32m116\u001b[39m     \u001b[38;5;28;01mreturn\u001b[39;00m \u001b[43masyncio\u001b[49m\u001b[43m.\u001b[49m\u001b[43mrun\u001b[49m\u001b[43m(\u001b[49m\u001b[43mcoroutine\u001b[49m\u001b[43m)\u001b[49m\n\u001b[32m    117\u001b[39m \u001b[38;5;28;01melse\u001b[39;00m:\n\u001b[32m    118\u001b[39m     \u001b[38;5;28;01mtry\u001b[39;00m:\n\u001b[32m    119\u001b[39m         \u001b[38;5;66;03m# this will throw if there is no running loop\u001b[39;00m\n",
      "\u001b[36mFile \u001b[39m\u001b[32m~/.local/lib/python3.12/site-packages/nest_asyncio.py:30\u001b[39m, in \u001b[36m_patch_asyncio.<locals>.run\u001b[39m\u001b[34m(main, debug)\u001b[39m\n\u001b[32m     28\u001b[39m task = asyncio.ensure_future(main)\n\u001b[32m     29\u001b[39m \u001b[38;5;28;01mtry\u001b[39;00m:\n\u001b[32m---> \u001b[39m\u001b[32m30\u001b[39m     \u001b[38;5;28;01mreturn\u001b[39;00m \u001b[43mloop\u001b[49m\u001b[43m.\u001b[49m\u001b[43mrun_until_complete\u001b[49m\u001b[43m(\u001b[49m\u001b[43mtask\u001b[49m\u001b[43m)\u001b[49m\n\u001b[32m     31\u001b[39m \u001b[38;5;28;01mfinally\u001b[39;00m:\n\u001b[32m     32\u001b[39m     \u001b[38;5;28;01mif\u001b[39;00m \u001b[38;5;129;01mnot\u001b[39;00m task.done():\n",
      "\u001b[36mFile \u001b[39m\u001b[32m~/.local/lib/python3.12/site-packages/nest_asyncio.py:92\u001b[39m, in \u001b[36m_patch_loop.<locals>.run_until_complete\u001b[39m\u001b[34m(self, future)\u001b[39m\n\u001b[32m     90\u001b[39m     f._log_destroy_pending = \u001b[38;5;28;01mFalse\u001b[39;00m\n\u001b[32m     91\u001b[39m \u001b[38;5;28;01mwhile\u001b[39;00m \u001b[38;5;129;01mnot\u001b[39;00m f.done():\n\u001b[32m---> \u001b[39m\u001b[32m92\u001b[39m     \u001b[38;5;28;43mself\u001b[39;49m\u001b[43m.\u001b[49m\u001b[43m_run_once\u001b[49m\u001b[43m(\u001b[49m\u001b[43m)\u001b[49m\n\u001b[32m     93\u001b[39m     \u001b[38;5;28;01mif\u001b[39;00m \u001b[38;5;28mself\u001b[39m._stopping:\n\u001b[32m     94\u001b[39m         \u001b[38;5;28;01mbreak\u001b[39;00m\n",
      "\u001b[36mFile \u001b[39m\u001b[32m~/.local/lib/python3.12/site-packages/nest_asyncio.py:115\u001b[39m, in \u001b[36m_patch_loop.<locals>._run_once\u001b[39m\u001b[34m(self)\u001b[39m\n\u001b[32m    108\u001b[39m     heappop(scheduled)\n\u001b[32m    110\u001b[39m timeout = (\n\u001b[32m    111\u001b[39m     \u001b[32m0\u001b[39m \u001b[38;5;28;01mif\u001b[39;00m ready \u001b[38;5;129;01mor\u001b[39;00m \u001b[38;5;28mself\u001b[39m._stopping\n\u001b[32m    112\u001b[39m     \u001b[38;5;28;01melse\u001b[39;00m \u001b[38;5;28mmin\u001b[39m(\u001b[38;5;28mmax\u001b[39m(\n\u001b[32m    113\u001b[39m         scheduled[\u001b[32m0\u001b[39m]._when - \u001b[38;5;28mself\u001b[39m.time(), \u001b[32m0\u001b[39m), \u001b[32m86400\u001b[39m) \u001b[38;5;28;01mif\u001b[39;00m scheduled\n\u001b[32m    114\u001b[39m     \u001b[38;5;28;01melse\u001b[39;00m \u001b[38;5;28;01mNone\u001b[39;00m)\n\u001b[32m--> \u001b[39m\u001b[32m115\u001b[39m event_list = \u001b[38;5;28;43mself\u001b[39;49m\u001b[43m.\u001b[49m\u001b[43m_selector\u001b[49m\u001b[43m.\u001b[49m\u001b[43mselect\u001b[49m\u001b[43m(\u001b[49m\u001b[43mtimeout\u001b[49m\u001b[43m)\u001b[49m\n\u001b[32m    116\u001b[39m \u001b[38;5;28mself\u001b[39m._process_events(event_list)\n\u001b[32m    118\u001b[39m end_time = \u001b[38;5;28mself\u001b[39m.time() + \u001b[38;5;28mself\u001b[39m._clock_resolution\n",
      "\u001b[36mFile \u001b[39m\u001b[32m/usr/local/lib/python3.12/selectors.py:468\u001b[39m, in \u001b[36mEpollSelector.select\u001b[39m\u001b[34m(self, timeout)\u001b[39m\n\u001b[32m    466\u001b[39m ready = []\n\u001b[32m    467\u001b[39m \u001b[38;5;28;01mtry\u001b[39;00m:\n\u001b[32m--> \u001b[39m\u001b[32m468\u001b[39m     fd_event_list = \u001b[38;5;28;43mself\u001b[39;49m\u001b[43m.\u001b[49m\u001b[43m_selector\u001b[49m\u001b[43m.\u001b[49m\u001b[43mpoll\u001b[49m\u001b[43m(\u001b[49m\u001b[43mtimeout\u001b[49m\u001b[43m,\u001b[49m\u001b[43m \u001b[49m\u001b[43mmax_ev\u001b[49m\u001b[43m)\u001b[49m\n\u001b[32m    469\u001b[39m \u001b[38;5;28;01mexcept\u001b[39;00m \u001b[38;5;167;01mInterruptedError\u001b[39;00m:\n\u001b[32m    470\u001b[39m     \u001b[38;5;28;01mreturn\u001b[39;00m ready\n",
      "\u001b[31mKeyboardInterrupt\u001b[39m: "
     ]
    }
   ],
   "source": [
    "from inspect_ai import Task, task, eval\n",
    "from inspect_ai.dataset import Sample\n",
    "from inspect_ai.solver import system_message, generate\n",
    "from inspect_ai.scorer import includes, model_graded_fact\n",
    "from textwrap import dedent\n",
    "\n",
    "from helpers.solver.aider_coder import aider_coder\n",
    "from helpers.solver.codex_coder import codex_coder\n",
    "from helpers.solver.claude_coder import claude_coder\n",
    "\n",
    "from helpers.scorer.shell import command_results\n",
    "from helpers.solver.git_repo import repo_clone\n",
    "from helpers.solver.shell import script_exec\n",
    "\n",
    "@task\n",
    "def coding_agent_run() -> Task:\n",
    "\n",
    "    dataset=[\n",
    "        Sample(\n",
    "            input=dedent(\"\"\"Generate a javascript file name hello-world.js that prints out hello. \n",
    "            Now also add tests to the code , so npm run test work. \n",
    "            So if you need to install any packages, do that too.\"\"\"),\n",
    "            target=\"The generated code should have the filename hello-world.js\",\n",
    "        )\n",
    "    ]\n",
    "    \n",
    "    repo_dir = \"/my-repo/workshop\"\n",
    "    repo_url = \"https://github.com/jedi4ever/from-prompt-to-mcp.git\"\n",
    "\n",
    "    return Task(\n",
    "        dataset=dataset,\n",
    "        solver=[\n",
    "            script_exec(command=f\"rm -rf {repo_dir}\"), # remove the directory if it exists\n",
    "            script_exec(command=f\"mkdir -p {repo_dir}\"), # create the directory if it doesn't exist\n",
    "            # repo_clone(repo_url=repo_url, repo_dir=repo_dir),\n",
    "            # aider_coder(repo_dir=repo_dir),\n",
    "            codex_coder(repo_dir=repo_dir), # have open ai code code the code\n",
    "            #claude_coder(repo_dir=repo_dir)\n",
    "        ],\n",
    "        scorer=[\n",
    "            # model_graded_fact(), \n",
    "            command_results(cwd=repo_dir, cmd=\"node\", cmd_args=[\"hello-world.js\"], cmd_output=\"hello\"),\n",
    "            command_results(cwd=repo_dir, cmd=\"npm\", cmd_args=[\"run\",\"test\"]),\n",
    "        ],\n",
    "        sandbox=\"docker\" #runs n a container\n",
    "    )\n",
    "\n",
    "results = eval(coding_agent_run, log_level=\"info\",display=\"conversation\")\n",
    "print(pretty_results(results))"
   ]
  }
 ],
 "metadata": {
  "kernelspec": {
   "display_name": "Python 3",
   "language": "python",
   "name": "python3"
  },
  "language_info": {
   "codemirror_mode": {
    "name": "ipython",
    "version": 3
   },
   "file_extension": ".py",
   "mimetype": "text/x-python",
   "name": "python",
   "nbconvert_exporter": "python",
   "pygments_lexer": "ipython3",
   "version": "3.12.10"
  }
 },
 "nbformat": 4,
 "nbformat_minor": 2
}
