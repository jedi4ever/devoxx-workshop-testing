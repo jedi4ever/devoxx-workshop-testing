{
 "cells": [
  {
   "cell_type": "markdown",
   "metadata": {},
   "source": [
    "# Inspect - an Eval Framework\n",
    "## Introduction\n",
    "- We've seen that prompts can greatly have an impact on the output.\n",
    "- Therefore we need tests to make sure everything keeps working as expecting.\n",
    "- In AI Engineering , test are called `evals`.\n",
    "- If you are not doing tests , you are doing `vibe check` (hence vibe coding)\n",
    "\n",
    "\n",
    "- There exist many eval frameworks (langfuse, Arize, Weights and Biases)\n",
    "- The framework we will use here is `Inspect AI` - <https://inspect.ai-safety-institute.org.uk/>. \n",
    "- It comes in the form of a VSCode plugin too, this is enabled for this workshop.\n",
    "- It is very well documented and also is easy to run without server interaction (all locally)\n",
    "- But can easily run on a CI/CD server\n",
    "- It has native support for docker/containers making it easy to run code in a sandboxed way."
   ]
  }
 ],
 "metadata": {
  "kernelspec": {
   "display_name": "Python 3",
   "language": "python",
   "name": "python3"
  },
  "language_info": {
   "codemirror_mode": {
    "name": "ipython",
    "version": 3
   },
   "file_extension": ".py",
   "mimetype": "text/x-python",
   "name": "python",
   "nbconvert_exporter": "python",
   "pygments_lexer": "ipython3",
   "version": "3.12.10"
  }
 },
 "nbformat": 4,
 "nbformat_minor": 2
}
