{
 "cells": [
  {
   "cell_type": "markdown",
   "metadata": {},
   "source": [
    "## Installation"
   ]
  },
  {
   "cell_type": "markdown",
   "metadata": {},
   "source": [
    "Note : we are pinning the inspect_ai due to a recent breaking change"
   ]
  },
  {
   "cell_type": "code",
   "execution_count": null,
   "metadata": {},
   "outputs": [
    {
     "name": "stdout",
     "output_type": "stream",
     "text": [
      "\n",
      "\u001b[1m[\u001b[0m\u001b[34;49mnotice\u001b[0m\u001b[1;39;49m]\u001b[0m\u001b[39;49m A new release of pip is available: \u001b[0m\u001b[31;49m24.3.1\u001b[0m\u001b[39;49m -> \u001b[0m\u001b[32;49m25.1.1\u001b[0m\n",
      "\u001b[1m[\u001b[0m\u001b[34;49mnotice\u001b[0m\u001b[1;39;49m]\u001b[0m\u001b[39;49m To update, run: \u001b[0m\u001b[32;49mpip install --upgrade pip\u001b[0m\n",
      "Note: you may need to restart the kernel to use updated packages.\n"
     ]
    }
   ],
   "source": [
    "%pip install -q openai anthropic ipywidgets colorama\n",
    "import os\n",
    "os.environ['XDG_RUNTIME_DIR']=\"/tmp\"\n",
    "from helpers.reporter.pretty import pretty_results"
   ]
  },
  {
   "cell_type": "markdown",
   "metadata": {},
   "source": [
    "## Run a shell one with tools"
   ]
  },
  {
   "cell_type": "markdown",
   "metadata": {},
   "source": [
    "We add all the models we want to test across"
   ]
  },
  {
   "cell_type": "code",
   "execution_count": 9,
   "metadata": {},
   "outputs": [
    {
     "data": {
      "application/vnd.jupyter.widget-view+json": {
       "model_id": "fd1e6d76af7e48638eb2cf69fbe5aa97",
       "version_major": 2,
       "version_minor": 0
      },
      "text/plain": [
       "Output()"
      ]
     },
     "metadata": {},
     "output_type": "display_data"
    },
    {
     "name": "stdout",
     "output_type": "stream",
     "text": [
      "\n",
      "Status: success Model: openai/gpt-4o-mini\n",
      "/workspaces/workshop-testing/lessons/04-testing/logs/2025-05-06T19-53-13+00-00_myagent_AaZvaU8VySqsRwtmasTGzJ.eval\n",
      "======= Sample ========\n",
      "input : Where does patrick debois live ? Use wikipedia\n",
      "target: Belgium\n",
      "====================\n",
      "\u001b[33m user       \u001b[39m> Where does patrick debois live ? Use wikipedia\n",
      "\u001b[33m system     \u001b[39m> You are an expert at using a web browser to answer questions.\n",
      "\u001b[33m assistant [tool:web_browser_go] \u001b[39m> {'url': 'https://en.wikipedia.org/wiki/Patrick_Debois'}\n",
      "\u001b[33m assistant  \u001b[39m> \n",
      "\u001b[33m tool[web_browser_go] \u001b[39m+> main content:\n",
      "Patrick Debois Patrick Debois This article is only available in this language. Add the article for other languages Namespaces Page tools Tools Appearance Appearance hide hide Patrick Debois From Wikipedia, the free encyclopedia  Look for Patrick Debois on one of Wikipedia's sister projects sister projects : Wiktionary Wiktionary (dictionary) Wikibooks Wikibooks (textbooks) Wikiquote Wikiquote (quotations) Wikisource Wikisource (library) Wikiversity Wikiversity (learning resources) Commons Commons (media) Wikivoyage Wikivoyage (travel guide) Wikinews Wikinews (news source) Wikidata Wikidata (linked database) Wikispecies Wikispecies (species directory) Wikipedia does not have an article with this exact name. Please search for Patrick Debois in Wikipedia search for Patrick Debois in Wikipedia to check for alternative titles or spellings. • You need to log in or create an account log in or create an account and be autoconfirmed autoconfirmed to create new articles. Alternatively, you can use the article wizard article wizard to submit a draft for review, or request a new article request a new article . • Search for \"Patrick Debois\" Search for \" Patrick Debois \" in existing articles. • Look for pages within Wikipedia that link to this title Look for pages within Wikipedia that link to this title . Other reasons this message may be displayed: • If a page was recently created here, it may not be visible yet because of a delay in updating the database; wait a few minutes or try the purge function try the purge function . • Titles on Wikipedia are case sensitive case sensitive except for the first character; please check alternative capitalizations check alternative capitalizations and consider adding a redirect redirect here to the correct title. • If the page has been deleted, check the deletion log check the deletion log , and see Why was the page I created deleted? Why was the page I created deleted?\n",
      "\n",
      "\n",
      "\u001b[33m tool[web_browser_go] \u001b[39m+> accessibility tree:\n",
      "[206] banner \n",
      "  [208] navigation \"Site\" \n",
      "    [210] button \"Main menu\"  [hasPopup: menu]\n",
      "  [265] link \"Wikipedia The Free Encyclopedia\"  [url: https://en.wikipedia.org/wiki/Main_Page]\n",
      "  [268] search \n",
      "    [277] searchbox \"Search Wikipedia\"  [editable: plaintext, keyshortcuts: Alt+f]\n",
      "    [285] button \"Search\" \n",
      "  [286] navigation \"Personal tools\" \n",
      "    [307] list \n",
      "      [308] listitem \n",
      "        [309] link \"Donate\"  [url: https://donate.wikimedia.org/?wmf_source=donate&wmf_medium=sidebar&wmf_campaign=en.wikipedia.org&uselang=en]\n",
      "      [311] listitem \n",
      "        [312] link \"Create account\"  [url: https://en.wikipedia.org/w/index.php?title=Special:CreateAccount&returnto=Patrick+Debois]\n",
      "      [314] listitem \n",
      "        [315] link \"Log in\"  [url: https://en.wikipedia.org/w/index.php?title=Special:UserLogin&returnto=Patrick+Debois, keyshortcuts: Alt+o]\n",
      "    [318] button \"Personal tools\"  [hasPopup: menu]\n",
      "[359] main \n",
      "  [360] sectionheader \n",
      "    [361] heading \"Patrick Debois\" \n",
      "    [364] button \"This article is only available in this language. Add the article for other languages\"  [hasPopup: menu]\n",
      "  [373] navigation \"Namespaces\" \n",
      "    [377] listitem \n",
      "      [378] link \"Article\"  [url: https://en.wikipedia.org/w/index.php?title=Patrick_Debois&action=edit&redlink=1, keyshortcuts: Alt+c]\n",
      "    [380] listitem \n",
      "      [381] link \"Talk\"  [url: https://en.wikipedia.org/w/index.php?title=Talk:Patrick_Debois&action=edit&redlink=1, keyshortcuts: Alt+t]\n",
      "  [396] navigation \"Page tools\" \n",
      "    [398] button \"Tools\"  [hasPopup: menu]\n",
      "  [442] navigation \"Appearance\" \n",
      "    [158] StaticText \"Appearance\" \n",
      "    [448] button \"hide\" \n",
      "  [449] generic \"Patrick Debois\"  [labelledby]\n",
      "    [89] StaticText \"From Wikipedia, the free encyclopedia\" \n",
      "    [96] StaticText \"Look for \" \n",
      "    [97] StaticText \"Patrick Debois\" \n",
      "    [98] StaticText \" on one of Wikipedia's \" \n",
      "    [466] link \"sister projects\"  [url: https://en.wikipedia.org/wiki/Special:SiteMatrix]\n",
      "    [100] StaticText \":\" \n",
      "    [469] list \n",
      "      [470] listitem \n",
      "        [476] link \"Wiktionary\"  [url: https://en.wiktionary.org/wiki/Special:Search/Patrick_Debois]\n",
      "        [102] StaticText \" (dictionary)\" \n",
      "      [477] listitem \n",
      "        [483] link \"Wikibooks\"  [url: https://en.wikibooks.org/wiki/Special:Search/Patrick_Debois]\n",
      "        [104] StaticText \" (textbooks)\" \n",
      "      [484] listitem \n",
      "        [490] link \"Wikiquote\"  [url: https://en.wikiquote.org/wiki/Special:Search/Patrick_Debois]\n",
      "        [106] StaticText \" (quotations)\" \n",
      "      [491] listitem \n",
      "        [497] link \"Wikisource\"  [url: https://en.wikisource.org/wiki/Special:Search/Patrick_Debois]\n",
      "        [108] StaticText \" (library)\" \n",
      "      [498] listitem \n",
      "        [504] link \"Wikiversity\"  [url: https://en.wikiversity.org/wiki/Special:Search/Patrick_Debois]\n",
      "        [110] StaticText \" (learning resources)\" \n",
      "      [505] listitem \n",
      "        [511] link \"Commons\"  [url: https://commons.wikimedia.org/wiki/Special:Search/Patrick_Debois]\n",
      "        [112] StaticText \" (media)\" \n",
      "      [512] listitem \n",
      "        [518] link \"Wikivoyage\"  [url: https://en.wikivoyage.org/wiki/Special:Search/Patrick_Debois]\n",
      "        [114] StaticText \" (travel guide)\" \n",
      "      [519] listitem \n",
      "        [525] link \"Wikinews\"  [url: https://en.wikinews.org/wiki/Special:Search/Patrick_Debois]\n",
      "        [116] StaticText \" (news source)\" \n",
      "      [526] listitem \n",
      "        [532] link \"Wikidata\"  [url: https://www.wikidata.org/wiki/Special:Search/Patrick_Debois]\n",
      "        [118] StaticText \" (linked database)\" \n",
      "      [533] listitem \n",
      "        [539] link \"Wikispecies\"  [url: https://species.wikimedia.org/wiki/Special:Search/Patrick_Debois]\n",
      "        [120] StaticText \" (species directory)\" \n",
      "    [121] StaticText \"Wikipedia does not have an article with this exact name.\" \n",
      "    [122] StaticText \" Please \" \n",
      "    [542] link \"search for Patrick Debois in Wikipedia\"  [url: https://en.wikipedia.org/w/index.php?search=Patrick+Debois&title=Special%3ASearch&fulltext=1]\n",
      "    [126] StaticText \" to check for alternative titles or spellings.\" \n",
      "    [544] list \n",
      "      [545] listitem \n",
      "        [90] ListMarker \"• \" \n",
      "        [127] StaticText \"You need to \" \n",
      "        [546] link \"log in or create an account\"  [url: https://en.wikipedia.org/w/index.php?title=Special:UserLogin&returnto=Patrick+Debois]\n",
      "        [129] StaticText \" and be \" \n",
      "        [547] link \"autoconfirmed\"  [url: https://en.wikipedia.org/wiki/Wikipedia:User_access_levels#Autoconfirmed_users]\n",
      "        [131] StaticText \" to create new articles. Alternatively, you can use the \" \n",
      "        [548] link \"article wizard\"  [url: https://en.wikipedia.org/wiki/Wikipedia:Article_wizard]\n",
      "        [133] StaticText \" to submit a draft for review, or \" \n",
      "        [549] link \"request a new article\"  [url: https://en.wikipedia.org/wiki/Wikipedia:Requested_articles]\n",
      "        [135] StaticText \".\" \n",
      "      [550] listitem \n",
      "        [91] ListMarker \"• \" \n",
      "        [552] link \"Search for \"Patrick Debois\"\"  [url: https://en.wikipedia.org/w/index.php?search=Patrick+Debois&title=Special%3ASearch&fulltext=1&ns0=1]\n",
      "        [139] StaticText \" in existing articles.\" \n",
      "      [554] listitem \n",
      "        [92] ListMarker \"• \" \n",
      "        [555] link \"Look for pages within Wikipedia that link to this title\"  [url: https://en.wikipedia.org/wiki/Special:WhatLinksHere/Patrick_Debois]\n",
      "        [141] StaticText \".\" \n",
      "    [557] separator  [orientation: horizontal]\n",
      "    [142] StaticText \"Other reasons this message may be displayed:\" \n",
      "    [560] list \n",
      "      [561] listitem \n",
      "        [93] ListMarker \"• \" \n",
      "        [143] StaticText \"If a page was recently created here, it may not be visible yet because of a delay in updating the database; wait a few minutes or \" \n",
      "        [562] link \"try the purge function\"  [url: https://en.wikipedia.org/wiki/Special:Purge/Patrick_Debois]\n",
      "        [145] StaticText \".\" \n",
      "      [563] listitem \n",
      "        [94] ListMarker \"• \" \n",
      "        [146] StaticText \"Titles on Wikipedia are \" \n",
      "        [565] link \"case sensitive\"  [url: https://en.wikipedia.org/wiki/Case_sensitivity]\n",
      "        [148] StaticText \" except for the first character; please \" \n",
      "        [567] link \"check alternative capitalizations\"  [url: https://en.wikipedia.org/w/index.php?search=Patrick+Debois&title=Special%3ASearch&fulltext=1]\n",
      "        [150] StaticText \" and consider adding a \" \n",
      "        [568] link \"redirect\"  [url: https://en.wikipedia.org/wiki/Wikipedia:Redirect]\n",
      "        [152] StaticText \" here to the correct title.\" \n",
      "      [569] listitem \n",
      "        [95] ListMarker \"• \" \n",
      "        [153] StaticText \"If the page has been deleted, \" \n",
      "        [570] link \"check the deletion log\"  [url: https://en.wikipedia.org/w/index.php?title=Special:Log/delete&page=Patrick_Debois]\n",
      "        [156] StaticText \", and see \" \n",
      "        [572] link \"Why was the page I created deleted?\"  [url: https://en.wikipedia.org/wiki/Wikipedia:Why_was_the_page_I_created_deleted%3F]\n",
      "[578] contentinfo \n",
      "  [581] listitem \n",
      "    [582] link \"Privacy policy\"  [url: https://foundation.wikimedia.org/wiki/Special:MyLanguage/Policy:Privacy_policy]\n",
      "  [583] listitem \n",
      "    [584] link \"About Wikipedia\"  [url: https://en.wikipedia.org/wiki/Wikipedia:About]\n",
      "  [585] listitem \n",
      "    [586] link \"Disclaimers\"  [url: https://en.wikipedia.org/wiki/Wikipedia:General_disclaimer]\n",
      "  [587] listitem \n",
      "    [588] link \"Contact Wikipedia\"  [url: https://en.wikipedia.org/wiki/Wikipedia:Contact_us]\n",
      "  [589] listitem \n",
      "    [170] link \"Code of Conduct\"  [url: https://foundation.wikimedia.org/wiki/Special:MyLanguage/Policy:Universal_Code_of_Conduct]\n",
      "  [590] listitem \n",
      "    [591] link \"Developers\"  [url: https://developer.wikimedia.org/]\n",
      "  [592] listitem \n",
      "    [593] link \"Statistics\"  [url: https://stats.wikimedia.org/#/en.wikipedia.org]\n",
      "  [594] listitem \n",
      "    [595] link \"Cookie statement\"  [url: https://foundation.wikimedia.org/wiki/Special:MyLanguage/Policy:Cookie_statement]\n",
      "  [596] listitem \n",
      "    [597] link \"Mobile view\"  [url: https://en.m.wikipedia.org/w/index.php?title=Patrick_Debois&mobileaction=toggle_view_mobile]\n",
      "  [598] list \n",
      "    [599] listitem \n",
      "      [600] link \"Wikimedia Foundation\"  [url: https://www.wikimedia.org/]\n",
      "    [604] listitem \n",
      "      [605] link \"Powered by MediaWiki\"  [url: https://www.mediawiki.org/]\n",
      "\n",
      "\u001b[33m assistant  \u001b[39m> It appears that there is no dedicated Wikipedia article for Patrick Debois. Therefore, I cannot provide information about his residence from that source. If you'd like, I can try searching for information elsewhere.\n",
      "======== Score ======\n",
      "Scorer[includes][VALUE]: I\n",
      "Scorer[includes][EXPLANATION]: It appears that there is no dedicated Wikipedia article for Patrick Debois. Therefore, I cannot provide information about his residence from that source. If you'd like, I can try searching for information elsewhere.\n",
      "====================\n",
      "********************************************************************************\n"
     ]
    }
   ],
   "source": [
    "from inspect_ai.agent import Agent, AgentState, agent, as_solver, as_tool\n",
    "from inspect_ai.model import ChatMessageSystem, get_model\n",
    "from inspect_ai.tool import web_browser\n",
    "\n",
    "@agent\n",
    "def web_surfer() -> Agent:\n",
    "    async def execute(state: AgentState) -> AgentState:\n",
    "        \"\"\"Web research assistant.\"\"\"\n",
    "      \n",
    "        # some general guidance for the agent\n",
    "        state.messages.append(\n",
    "            ChatMessageSystem(\n",
    "                content=\"You are an expert at using a \" + \n",
    "                \"web browser to answer questions.\"\n",
    "            )\n",
    "        )\n",
    "\n",
    "        # run a tool loop w/ the web_browser \n",
    "        messages, output = await get_model().generate_loop(\n",
    "            state.messages, tools=web_browser(interactive=False),\n",
    "        )\n",
    "\n",
    "        # update and return state\n",
    "        state.output = output\n",
    "        state.messages.extend(messages)\n",
    "        return state\n",
    "\n",
    "    return execute\n",
    "\n",
    "from inspect_ai.agent import react\n",
    "from inspect_ai.tool import web_browser\n",
    "\n",
    "\n",
    "from inspect_ai.solver import generate, use_tools\n",
    "from inspect_ai import Task, eval, task\n",
    "from inspect_ai.dataset import json_dataset\n",
    "from inspect_ai.scorer import includes\n",
    "from inspect_ai.dataset import Sample\n",
    "\n",
    "@task\n",
    "def myagent():\n",
    "\n",
    "    dataset = [\n",
    "     Sample(input=\"Where does patrick debois live ? Use wikipedia\", target=\"Belgium\")\n",
    "    ]\n",
    " \n",
    "    task = Task(\n",
    "        dataset=dataset,\n",
    "        solver=web_surfer(),\n",
    "        scorer=includes(),\n",
    "        sandbox=\"docker\"\n",
    "    )\n",
    "    return task\n",
    "\n",
    "results7 = eval(myagent, max_steps=10,log_level=\"info\",display=\"none\")\n",
    "p7 = pretty_results(results7)\n",
    "print(p7)"
   ]
  },
  {
   "cell_type": "markdown",
   "metadata": {},
   "source": [
    "## Handoff"
   ]
  },
  {
   "cell_type": "code",
   "execution_count": null,
   "metadata": {},
   "outputs": [
    {
     "data": {
      "application/vnd.jupyter.widget-view+json": {
       "model_id": "46593110393c448191140e3363350ca1",
       "version_major": 2,
       "version_minor": 0
      },
      "text/plain": [
       "Output()"
      ]
     },
     "metadata": {},
     "output_type": "display_data"
    },
    {
     "name": "stdout",
     "output_type": "stream",
     "text": [
      "\n"
     ]
    }
   ],
   "source": [
    "from inspect_ai.agent import react\n",
    "from inspect_ai.tool import web_browser\n",
    "\n",
    "web_surfer = react(\n",
    "    name=\"web_surfer\",\n",
    "    description=\"Web research assistant\",\n",
    "    prompt=\"You are a tenacious web researcher that is expert \"\n",
    "           + \"at using a web browser to answer questions.\",\n",
    "    tools=web_browser()   \n",
    ")\n",
    "\n",
    "from inspect_ai.agent import handoff\n",
    "from inspect_ai.dataset import Sample\n",
    "\n",
    "supervisor = react(\n",
    "    prompt=\"You are an agent that can answer addition \" \n",
    "            + \"problems and do web research.\",\n",
    "    tools=[ handoff(web_surfer)]\n",
    ")\n",
    "\n",
    "task2 = Task(\n",
    "    dataset=[\n",
    "        Sample(input=\"Please add 1+1 then tell me what \" \n",
    "                     + \"movies were popular in 2020\")\n",
    "    ],\n",
    "    solver=supervisor,\n",
    "    sandbox=\"docker\",\n",
    ")\n",
    "\n",
    "results8 = eval(task2, max_steps=10,log_level=\"info\",display=\"none\")\n",
    "p8 = pretty_results(results8)\n",
    "print(p8)"
   ]
  }
 ],
 "metadata": {
  "kernelspec": {
   "display_name": "Python 3",
   "language": "python",
   "name": "python3"
  },
  "language_info": {
   "codemirror_mode": {
    "name": "ipython",
    "version": 3
   },
   "file_extension": ".py",
   "mimetype": "text/x-python",
   "name": "python",
   "nbconvert_exporter": "python",
   "pygments_lexer": "ipython3",
   "version": "3.12.10"
  }
 },
 "nbformat": 4,
 "nbformat_minor": 2
}
