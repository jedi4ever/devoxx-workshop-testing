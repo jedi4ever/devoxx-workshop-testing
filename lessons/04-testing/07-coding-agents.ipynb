{
 "cells": [
  {
   "cell_type": "markdown",
   "metadata": {},
   "source": [
    "## Coding Agents - Experimental"
   ]
  },
  {
   "cell_type": "markdown",
   "metadata": {},
   "source": [
    "- Note : we are pinning the inspect_ai due to a recent breaking change\n",
    "- Coding agents generate code in the sandbox in /my-repo\n",
    "- This is mapped to the local repo my-repo so you can see what's going on\n",
    "- This mapping happens in `compose.yaml` file\n",
    "- The coding agents are installed in the sandbox container ahead of time.\n",
    "- See `container/Dockerfile.mcp`"
   ]
  },
  {
   "cell_type": "markdown",
   "metadata": {},
   "source": [
    "## Installation"
   ]
  },
  {
   "cell_type": "code",
   "execution_count": null,
   "metadata": {},
   "outputs": [],
   "source": [
    "%pip install -q openai anthropic ipywidgets colorama\n",
    "import os\n",
    "os.environ['XDG_RUNTIME_DIR']=\"/tmp\"\n",
    "os.environ['INSPECT_EVAL_MODEL'] = \"openai/gpt-4o-mini\"\n",
    "\n",
    "from helpers.reporter.pretty import pretty_results"
   ]
  },
  {
   "cell_type": "markdown",
   "metadata": {},
   "source": [
    "## Run a coding agent"
   ]
  },
  {
   "cell_type": "markdown",
   "metadata": {},
   "source": [
    "We add all the models we want to test across"
   ]
  },
  {
   "cell_type": "code",
   "execution_count": null,
   "metadata": {},
   "outputs": [],
   "source": [
    "from inspect_ai import Task, task, eval\n",
    "from inspect_ai.dataset import Sample\n",
    "from inspect_ai.solver import system_message, generate\n",
    "from inspect_ai.scorer import includes, model_graded_fact\n",
    "from textwrap import dedent\n",
    "\n",
    "from helpers.solver.aider_coder import aider_coder\n",
    "from helpers.solver.codex_coder import codex_coder\n",
    "from helpers.solver.claude_coder import claude_coder\n",
    "\n",
    "from helpers.scorer.shell import command_results\n",
    "from helpers.solver.git_repo import repo_clone\n",
    "from helpers.solver.shell import script_exec\n",
    "\n",
    "@task\n",
    "def coding_agent_run() -> Task:\n",
    "\n",
    "    dataset=[\n",
    "        Sample(\n",
    "            input=dedent(\"\"\"Generate a javascript file name hello-world.js that prints out hello. \n",
    "            Now also add tests to the code , so npm run test work. \n",
    "            So if you need to install any packages, do that too.\"\"\"),\n",
    "            target=\"The generated code should have the filename hello-world.js\",\n",
    "        )\n",
    "    ]\n",
    "    \n",
    "    repo_dir = \"/my-repo/workshop\"\n",
    "    repo_url = \"https://github.com/jedi4ever/from-prompt-to-mcp.git\"\n",
    "\n",
    "    return Task(\n",
    "        dataset=dataset,\n",
    "        solver=[\n",
    "            script_exec(command=f\"rm -rf {repo_dir}\"), # remove the directory if it exists\n",
    "            script_exec(command=f\"mkdir -p {repo_dir}\"), # create the directory if it doesn't exist\n",
    "            # repo_clone(repo_url=repo_url, repo_dir=repo_dir),\n",
    "            # aider_coder(repo_dir=repo_dir),\n",
    "            codex_coder(repo_dir=repo_dir), # have open ai code code the code\n",
    "            #claude_coder(repo_dir=repo_dir)\n",
    "        ],\n",
    "        scorer=[\n",
    "            # model_graded_fact(), \n",
    "            command_results(cwd=repo_dir, cmd=\"node\", cmd_args=[\"hello-world.js\"], cmd_output=\"hello\"),\n",
    "            command_results(cwd=repo_dir, cmd=\"npm\", cmd_args=[\"run\",\"test\"]),\n",
    "        ],\n",
    "        sandbox=\"docker\" #runs n a container\n",
    "    )\n",
    "\n",
    "results = eval(coding_agent_run, log_level=\"info\",display=\"conversation\")\n",
    "print(pretty_results(results))"
   ]
  }
 ],
 "metadata": {
  "kernelspec": {
   "display_name": "Python 3",
   "language": "python",
   "name": "python3"
  },
  "language_info": {
   "codemirror_mode": {
    "name": "ipython",
    "version": 3
   },
   "file_extension": ".py",
   "mimetype": "text/x-python",
   "name": "python",
   "nbconvert_exporter": "python",
   "pygments_lexer": "ipython3",
   "version": "3.12.10"
  }
 },
 "nbformat": 4,
 "nbformat_minor": 2
}
