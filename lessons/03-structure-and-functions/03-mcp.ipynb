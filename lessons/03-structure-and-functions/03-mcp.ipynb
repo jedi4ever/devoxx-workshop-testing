{
 "cells": [
  {
   "cell_type": "markdown",
   "id": "d8db91f8",
   "metadata": {},
   "source": [
    "# MCP - Model Context Protocol\n",
    "## Introduction\n",
    "- Instead of coding the function calls to tools, we can also use an MCP server.\n",
    "- This protocol helps the autodiscovery of tools and was initially conceived by Anthropic.\n",
    "- Now it is way to plugin new tools into IDEs\n",
    "\n",
    "More info via:\n",
    "- https://github.com/modelcontextprotocol/servers\n",
    "- https://modelcontextprotocol.io/docs/concepts/transports#server-sent-events-sse"
   ]
  },
  {
   "cell_type": "code",
   "execution_count": 1,
   "id": "c27ee725",
   "metadata": {},
   "outputs": [
    {
     "name": "stdout",
     "output_type": "stream",
     "text": [
      "\n",
      "\u001b[1m[\u001b[0m\u001b[34;49mnotice\u001b[0m\u001b[1;39;49m]\u001b[0m\u001b[39;49m A new release of pip is available: \u001b[0m\u001b[31;49m25.0.1\u001b[0m\u001b[39;49m -> \u001b[0m\u001b[32;49m25.1.1\u001b[0m\n",
      "\u001b[1m[\u001b[0m\u001b[34;49mnotice\u001b[0m\u001b[1;39;49m]\u001b[0m\u001b[39;49m To update, run: \u001b[0m\u001b[32;49mpip install --upgrade pip\u001b[0m\n",
      "Note: you may need to restart the kernel to use updated packages.\n"
     ]
    }
   ],
   "source": [
    "%pip install -q fastmcp"
   ]
  },
  {
   "cell_type": "markdown",
   "id": "cab31471",
   "metadata": {},
   "source": [
    "## A basic MCP security scanner"
   ]
  },
  {
   "cell_type": "code",
   "execution_count": 2,
   "id": "0e0e9388",
   "metadata": {},
   "outputs": [
    {
     "name": "stdout",
     "output_type": "stream",
     "text": [
      "\u001b[38;5;66;03m# math_server.py\u001b[39;00m\n",
      "\u001b[38;5;28;01mfrom\u001b[39;00m mcp.server.fastmcp \u001b[38;5;28;01mimport\u001b[39;00m FastMCP\n",
      "\n",
      "mcp = FastMCP(\u001b[33m\"Security Scanner\"\u001b[39m)\n",
      "\n",
      "@mcp.tool()\n",
      "\u001b[38;5;28;01mdef\u001b[39;00m scan(code : str) -> bool:\n",
      "    \u001b[33m\"\"\"Scan code for security vulnerabilities\"\"\"\u001b[39m\n",
      "\n",
      "    \u001b[38;5;28;01mif\u001b[39;00m (\u001b[33m\"patrick\"\u001b[39m \u001b[38;5;28;01min\u001b[39;00m code.lower()):\n",
      "        \u001b[38;5;28;01mreturn\u001b[39;00m \u001b[38;5;28;01mTrue\u001b[39;00m\n",
      "    \u001b[38;5;28;01melse\u001b[39;00m:\n",
      "        \u001b[38;5;28;01mreturn\u001b[39;00m \u001b[38;5;28;01mFalse\u001b[39;00m\n",
      "    \n",
      "@mcp.prompt()\n",
      "\u001b[38;5;28;01mdef\u001b[39;00m scanner_prompt(code: str) -> str:\n",
      "    \u001b[33m\"\"\"Prompt for scanning the code\"\"\"\u001b[39m\n",
      "    \u001b[38;5;28;01mreturn\u001b[39;00m \u001b[33m\"You are an amazing security scanner. Please scan the following code for security vulnerabilities: {code} \\n\\n\"\u001b[39m \\\n",
      "\n",
      "\u001b[38;5;28;01mif\u001b[39;00m __name__ == \u001b[33m\"__main__\"\u001b[39m:\n",
      "    mcp.run(transport=\u001b[33m\"stdio\"\u001b[39m)\n"
     ]
    }
   ],
   "source": [
    "%pycat data/security_scanner_stdio.py"
   ]
  },
  {
   "cell_type": "markdown",
   "id": "0014c1f8",
   "metadata": {},
   "source": [
    "## Execute the code and see what functions are available"
   ]
  },
  {
   "cell_type": "code",
   "execution_count": 3,
   "id": "ccf7c066",
   "metadata": {},
   "outputs": [
    {
     "name": "stdout",
     "output_type": "stream",
     "text": [
      "\n",
      "Connected to server with tools: ['scan']\n",
      "\n",
      "Available prompts: [('meta', None), ('nextCursor', None), ('prompts', [Prompt(name='scanner_prompt', description='Prompt for scanning the code', arguments=[PromptArgument(name='code', description=None, required=True)])])]\n"
     ]
    }
   ],
   "source": [
    "\"\"\"MCP HTTP client example using MCP SDK.\"\"\"\n",
    "\n",
    "import asyncio\n",
    "import sys\n",
    "from typing import Any\n",
    "from urllib.parse import urlparse\n",
    "\n",
    "from mcp import StdioServerParameters\n",
    "from mcp.client.session import ClientSession\n",
    "from mcp.client.stdio import stdio_client \n",
    "\n",
    "from contextlib import AsyncExitStack\n",
    "\n",
    "\n",
    "# https://github.com/slavashvets/mcp-http-client-example/blob/main/main.py\n",
    "\n",
    "async def connect_to_stdio_server( server_script_path: str):\n",
    "        \"\"\"Connect to an MCP STDIO server\n",
    "        \n",
    "        Args:\n",
    "            server_script_path: Path to the server script (.py or .js)\n",
    "        \"\"\"\n",
    "        \n",
    "        # Prepare execution\n",
    "        server_params = StdioServerParameters(\n",
    "            command=\"python\",\n",
    "            args=[server_script_path],\n",
    "            env=None\n",
    "        )\n",
    "        \n",
    "        # Initialize session\n",
    "        exit_stack = AsyncExitStack()\n",
    "        stdio_transport = await exit_stack.enter_async_context(stdio_client(server_params))\n",
    "    \n",
    "        stdio , write = stdio_transport\n",
    "        session = await exit_stack.enter_async_context(ClientSession(stdio, write))\n",
    "        \n",
    "        await session.initialize()\n",
    "\n",
    "         # List available information\n",
    "        prompts = await session.list_prompts()\n",
    "        resource_templates = await session.list_resource_templates()\n",
    "        resources = await session.list_resources()\n",
    "        response = await session.list_tools()\n",
    "        tools = response.tools\n",
    "\n",
    "        print(\"\\nConnected to server with tools:\", [tool.name for tool in tools])\n",
    "        print(\"\\nAvailable prompts:\", [prompt for prompt in prompts])\n",
    "        \n",
    "        return session\n",
    "\n",
    "async def main(mcp_code_file_path: str):\n",
    "    \"\"\"Connect to MCP server and list its capabilities.\n",
    "\n",
    "    Args:\n",
    "        mcp_code_file_path: Path to the MCP code file (.py)\n",
    "    \"\"\"\n",
    "\n",
    "    try:\n",
    "        await connect_to_stdio_server(mcp_code_file_path)\n",
    "\n",
    "    except Exception as e:\n",
    "        print(f\"Error connecting to server: {e}\")\n",
    "        sys.exit(1)\n",
    "\n",
    "mcp_code = \"./data/security_scanner_stdio.py\"\n",
    "await main(mcp_code)\n"
   ]
  },
  {
   "cell_type": "markdown",
   "id": "274ffe46",
   "metadata": {},
   "source": [
    "## Start a linter corrector server using MCP"
   ]
  },
  {
   "cell_type": "code",
   "execution_count": 4,
   "id": "a5913dcb",
   "metadata": {},
   "outputs": [],
   "source": [
    "import subprocess\n",
    "\n",
    "import os\n",
    "os.environ['FASTMCP_PORT'] = '5432'\n",
    "command = ['python', 'data/linter_corrector_sse.py']\n",
    "# Start a background process using subprocess.Popen\n",
    "process = subprocess.Popen(command, stdout=subprocess.PIPE,stderr=subprocess.PIPE)"
   ]
  },
  {
   "cell_type": "markdown",
   "id": "5b20c8ee",
   "metadata": {},
   "source": [
    "## Connecting as an MCP client\n",
    "Using the MCP SDK"
   ]
  },
  {
   "cell_type": "code",
   "execution_count": 5,
   "id": "7ce01f8e",
   "metadata": {},
   "outputs": [
    {
     "name": "stdout",
     "output_type": "stream",
     "text": [
      "\n",
      "\u001b[1m[\u001b[0m\u001b[34;49mnotice\u001b[0m\u001b[1;39;49m]\u001b[0m\u001b[39;49m A new release of pip is available: \u001b[0m\u001b[31;49m25.0.1\u001b[0m\u001b[39;49m -> \u001b[0m\u001b[32;49m25.1.1\u001b[0m\n",
      "\u001b[1m[\u001b[0m\u001b[34;49mnotice\u001b[0m\u001b[1;39;49m]\u001b[0m\u001b[39;49m To update, run: \u001b[0m\u001b[32;49mpip install --upgrade pip\u001b[0m\n",
      "Note: you may need to restart the kernel to use updated packages.\n"
     ]
    }
   ],
   "source": [
    "%pip install -q mcp"
   ]
  },
  {
   "cell_type": "code",
   "execution_count": 6,
   "id": "6d5db493",
   "metadata": {},
   "outputs": [],
   "source": [
    "\"\"\"MCP HTTP client example using MCP SDK.\"\"\"\n",
    "\n",
    "import asyncio\n",
    "import sys\n",
    "from typing import Any\n",
    "from urllib.parse import urlparse\n",
    "\n",
    "from mcp.client.session import ClientSession\n",
    "from mcp.client.sse import sse_client\n",
    "\n",
    "# https://github.com/slavashvets/mcp-http-client-example/blob/main/main.py\n",
    "\n",
    "def print_items(name: str, result: Any) -> None:\n",
    "    \"\"\"Print items with formatting.\n",
    "\n",
    "    Args:\n",
    "        name: Category name (tools/resources/prompts)\n",
    "        result: Result object containing items list\n",
    "    \"\"\"\n",
    "    print(\"\", f\"Available {name}:\", sep=\"\\n\")\n",
    "    items = getattr(result, name)\n",
    "    if items:\n",
    "        for item in items:\n",
    "            print(\" *\", item)\n",
    "    else:\n",
    "        print(\"No items available\")\n",
    "\n",
    "\n",
    "async def main(server_url: str):\n",
    "    \"\"\"Connect to MCP server and list its capabilities.\n",
    "\n",
    "    Args:\n",
    "        server_url: Full URL to SSE endpoint (e.g. http://localhost:8000/sse)\n",
    "    \"\"\"\n",
    "    if urlparse(server_url).scheme not in (\"http\", \"https\"):\n",
    "        print(\"Error: Server URL must start with http:// or https://\")\n",
    "        sys.exit(1)\n",
    "\n",
    "    try:\n",
    "        async with sse_client(server_url) as streams:\n",
    "            async with ClientSession(streams[0], streams[1]) as session:\n",
    "                await session.initialize()\n",
    "                print(\"Connected to MCP server at\", server_url)\n",
    "                print_items(\"tools\", (await session.list_tools()))\n",
    "                print_items(\"prompts\", (await session.list_prompts()))\n",
    "    except Exception as e:\n",
    "        print(f\"Error connecting to server: {e}\")\n",
    "        sys.exit(1)"
   ]
  },
  {
   "cell_type": "code",
   "execution_count": 7,
   "id": "cbabdf26",
   "metadata": {},
   "outputs": [
    {
     "name": "stdout",
     "output_type": "stream",
     "text": [
      "Connected to MCP server at http://localhost:5432/sse\n",
      "\n",
      "Available tools:\n",
      " * name='correct' description='A linter good at correcting patrick code syntax' inputSchema={'properties': {'code': {'title': 'Code', 'type': 'string'}}, 'required': ['code'], 'title': 'correctArguments', 'type': 'object'} annotations=None\n",
      "\n",
      "Available prompts:\n",
      " * name='linter_prompt' description='Prompt good for linting code' arguments=[PromptArgument(name='code', description=None, required=True)]\n"
     ]
    }
   ],
   "source": [
    "# Now we can list the services from the network MCP service\n",
    "url = \"http://localhost:5432/sse\"\n",
    "\n",
    "await main(url)\n",
    "#asyncio.run(main(url))"
   ]
  }
 ],
 "metadata": {
  "kernelspec": {
   "display_name": "Python 3",
   "language": "python",
   "name": "python3"
  },
  "language_info": {
   "codemirror_mode": {
    "name": "ipython",
    "version": 3
   },
   "file_extension": ".py",
   "mimetype": "text/x-python",
   "name": "python",
   "nbconvert_exporter": "python",
   "pygments_lexer": "ipython3",
   "version": "3.12.10"
  }
 },
 "nbformat": 4,
 "nbformat_minor": 5
}
