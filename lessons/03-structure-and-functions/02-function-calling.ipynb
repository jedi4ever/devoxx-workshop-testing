{
 "cells": [
  {
   "cell_type": "markdown",
   "id": "480853c8",
   "metadata": {},
   "source": [
    "# Function Calling\n",
    "## Introduction\n",
    "\n",
    "See <https://platform.openai.com/docs/guides/function-calling>"
   ]
  },
  {
   "cell_type": "markdown",
   "id": "78eaaf8f",
   "metadata": {},
   "source": [
    "## Installation"
   ]
  },
  {
   "cell_type": "code",
   "execution_count": 1,
   "id": "3e9622be",
   "metadata": {},
   "outputs": [
    {
     "name": "stdout",
     "output_type": "stream",
     "text": [
      "\n",
      "\u001b[1m[\u001b[0m\u001b[34;49mnotice\u001b[0m\u001b[1;39;49m]\u001b[0m\u001b[39;49m A new release of pip is available: \u001b[0m\u001b[31;49m25.0.1\u001b[0m\u001b[39;49m -> \u001b[0m\u001b[32;49m25.1.1\u001b[0m\n",
      "\u001b[1m[\u001b[0m\u001b[34;49mnotice\u001b[0m\u001b[1;39;49m]\u001b[0m\u001b[39;49m To update, run: \u001b[0m\u001b[32;49mpip install --upgrade pip\u001b[0m\n",
      "Note: you may need to restart the kernel to use updated packages.\n"
     ]
    }
   ],
   "source": [
    "%pip install -q openai\n",
    "from openai import OpenAI\n",
    "client = OpenAI()\n",
    "model = \"gpt-4.1\""
   ]
  },
  {
   "cell_type": "markdown",
   "id": "5d0b904e",
   "metadata": {},
   "source": [
    "## Ask an LLM to check if code is secure"
   ]
  },
  {
   "cell_type": "code",
   "execution_count": 2,
   "id": "3f139178",
   "metadata": {},
   "outputs": [
    {
     "name": "stdout",
     "output_type": "stream",
     "text": [
      "Let's review your code:\n",
      "\n",
      "```javascript\n",
      "console.log(\"Hello Patrick\");\n",
      "```\n",
      "\n",
      "**Security Analysis:**\n",
      "\n",
      "- This code simply prints \"Hello Patrick\" to the console.\n",
      "- It does **not** take any user input.\n",
      "- It does **not** interact with the file system, network, or any external resources.\n",
      "- It does **not** use any dangerous or deprecated APIs.\n",
      "- There is **no risk** of code injection, XSS, or other common vulnerabilities.\n",
      "\n",
      "**Conclusion:**  \n",
      "✅ **This code is completely secure.** There are no security risks in this snippet.\n",
      "\n",
      "If you have a larger or more complex codebase you'd like reviewed, feel free to share!\n"
     ]
    }
   ],
   "source": [
    "existing_code = \"\"\"\n",
    "console.log(\"Hello Patrick\");\n",
    "\"\"\"\n",
    "\n",
    "completion = client.chat.completions.create(model=model, temperature=0,\n",
    "    messages=[\n",
    "        {\n",
    "            \"role\": \"user\",\n",
    "            \"content\": f\"Check if this code is secure :\\n\\n{existing_code}\\n\\n\"\n",
    "        }\n",
    "    ]\n",
    ")\n",
    "\n",
    "result =   completion.choices[0].message.content\n",
    "print(result)\n"
   ]
  },
  {
   "cell_type": "markdown",
   "id": "bfc91ed2",
   "metadata": {},
   "source": [
    "## Setup our own security scanner"
   ]
  },
  {
   "cell_type": "code",
   "execution_count": 3,
   "id": "61356629",
   "metadata": {},
   "outputs": [],
   "source": [
    "def security_scanner(code: str):\n",
    "    if \"patrick\" in code.lower():\n",
    "        return \"This code contains the word Patrick is therefore not safe.\"\n",
    "    else: \n",
    "        return \"This code is safe.\""
   ]
  },
  {
   "cell_type": "markdown",
   "id": "1a272cd1",
   "metadata": {},
   "source": [
    "## Define the function schema"
   ]
  },
  {
   "cell_type": "code",
   "execution_count": 4,
   "id": "29604692",
   "metadata": {},
   "outputs": [],
   "source": [
    "tools = [{\n",
    "    \"type\": \"function\",\n",
    "    \"function\": {\n",
    "        \"name\": \"security_scanner\",\n",
    "        \"description\": \"Checks if the provided code is secure.\",\n",
    "        \"parameters\": {\n",
    "            \"type\": \"object\",\n",
    "            \"properties\": {\n",
    "                \"code\": {\n",
    "                    \"type\": \"string\",\n",
    "                    \"description\": \"The code to be analyzed for security vulnerabilities.\"\n",
    "                },\n",
    "\n",
    "            },\n",
    "            \"required\": [\"code\"],\n",
    "            \"additionalProperties\": False,\n",
    "        },\n",
    "        \"strict\": True # Enforce strict schema validation\n",
    "    }\n",
    "}]"
   ]
  },
  {
   "cell_type": "markdown",
   "id": "e5c0c032",
   "metadata": {},
   "source": [
    "## Launch our request"
   ]
  },
  {
   "cell_type": "code",
   "execution_count": 5,
   "id": "78454879",
   "metadata": {},
   "outputs": [
    {
     "name": "stdout",
     "output_type": "stream",
     "text": [
      "Response:\n",
      "[ChatCompletionMessageToolCall(id='call_D0LxvM8bY28OH8sVSupoi8rp', function=Function(arguments='{\"code\":\"console.log(\\\\\"Hello Patrick\\\\\");\"}', name='security_scanner'), type='function')]\n",
      "None\n"
     ]
    }
   ],
   "source": [
    "question = \"Make sure the following code is secure and only use the information we provide to determine that: \"+existing_code\n",
    "\n",
    "messages = [{\"role\": \"user\", \"content\": question}]\n",
    "\n",
    "completion = client.chat.completions.create(model=model,\n",
    "    messages=messages,\n",
    "    tools=tools,\n",
    ")\n",
    "\n",
    "print(\"Response:\")\n",
    "\n",
    "print(completion.choices[0].message.tool_calls)\n",
    "print(completion.choices[0].message.content)"
   ]
  },
  {
   "cell_type": "markdown",
   "id": "f1bfc6b2",
   "metadata": {},
   "source": [
    "## Execute the function call"
   ]
  },
  {
   "cell_type": "code",
   "execution_count": 6,
   "id": "37c57924",
   "metadata": {},
   "outputs": [
    {
     "name": "stdout",
     "output_type": "stream",
     "text": [
      "Security Scanner Result:\n",
      "This code contains the word Patrick is therefore not safe.\n"
     ]
    }
   ],
   "source": [
    "import json\n",
    "tool_call = completion.choices[0].message.tool_calls[0]\n",
    "args = json.loads(tool_call.function.arguments)\n",
    "\n",
    "result = security_scanner(args[\"code\"])\n",
    "print(\"Security Scanner Result:\")\n",
    "print(result)"
   ]
  },
  {
   "cell_type": "markdown",
   "id": "a5d1cf99",
   "metadata": {},
   "source": [
    "## Append them to the prompt request"
   ]
  },
  {
   "cell_type": "code",
   "execution_count": 7,
   "id": "9606517d",
   "metadata": {},
   "outputs": [
    {
     "name": "stdout",
     "output_type": "stream",
     "text": [
      "{'role': 'user', 'content': 'Make sure the following code is secure and only use the information we provide to determine that: \\nconsole.log(\"Hello Patrick\");\\n'}\n",
      "--------------------\n",
      "ChatCompletionMessage(content=None, refusal=None, role='assistant', annotations=[], audio=None, function_call=None, tool_calls=[ChatCompletionMessageToolCall(id='call_D0LxvM8bY28OH8sVSupoi8rp', function=Function(arguments='{\"code\":\"console.log(\\\\\"Hello Patrick\\\\\");\"}', name='security_scanner'), type='function')])\n",
      "--------------------\n",
      "{'role': 'tool', 'tool_call_id': 'call_D0LxvM8bY28OH8sVSupoi8rp', 'content': 'This code contains the word Patrick is therefore not safe.'}\n",
      "--------------------\n"
     ]
    }
   ],
   "source": [
    "messages.append(completion.choices[0].message)  # append model's function call message\n",
    "messages.append({                               # append result message\n",
    "    \"role\": \"tool\",\n",
    "    \"tool_call_id\": tool_call.id,\n",
    "    \"content\": str(result)\n",
    "})\n",
    "for message in messages:\n",
    "    print(message)\n",
    "    print(\"-\" * 20)"
   ]
  },
  {
   "cell_type": "markdown",
   "id": "53092677",
   "metadata": {},
   "source": [
    "## Ask for a new answer"
   ]
  },
  {
   "cell_type": "code",
   "execution_count": 8,
   "id": "85be83bb",
   "metadata": {},
   "outputs": [
    {
     "name": "stdout",
     "output_type": "stream",
     "text": [
      "Response:\n",
      "Based solely on the information provided, the code:\n",
      "\n",
      "console.log(\"Hello Patrick\");\n",
      "\n",
      "is flagged as not safe because it contains the word \"Patrick.\" If you have specific security criteria or context for what is considered unsafe, please provide those details for a more precise assessment. Otherwise, the output indicates the code should not be considered secure in this context.\n"
     ]
    }
   ],
   "source": [
    "completion_2 = client.chat.completions.create(\n",
    "    model=\"gpt-4.1\",\n",
    "    messages=messages,\n",
    "    tools=tools,\n",
    ")\n",
    "print(\"Response:\")\n",
    "print(completion_2.choices[0].message.content)"
   ]
  }
 ],
 "metadata": {
  "kernelspec": {
   "display_name": "Python 3",
   "language": "python",
   "name": "python3"
  },
  "language_info": {
   "codemirror_mode": {
    "name": "ipython",
    "version": 3
   },
   "file_extension": ".py",
   "mimetype": "text/x-python",
   "name": "python",
   "nbconvert_exporter": "python",
   "pygments_lexer": "ipython3",
   "version": "3.12.10"
  }
 },
 "nbformat": 4,
 "nbformat_minor": 5
}
