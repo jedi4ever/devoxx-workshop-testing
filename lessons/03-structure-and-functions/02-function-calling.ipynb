{
 "cells": [
  {
   "cell_type": "markdown",
   "id": "480853c8",
   "metadata": {},
   "source": [
    "# Function Calling\n",
    "## Introduction\n",
    "\n",
    "See <https://platform.openai.com/docs/guides/function-calling>"
   ]
  },
  {
   "cell_type": "markdown",
   "id": "78eaaf8f",
   "metadata": {},
   "source": [
    "## Installation"
   ]
  },
  {
   "cell_type": "code",
   "execution_count": 9,
   "id": "3e9622be",
   "metadata": {},
   "outputs": [
    {
     "name": "stdout",
     "output_type": "stream",
     "text": [
      "Note: you may need to restart the kernel to use updated packages.\n"
     ]
    }
   ],
   "source": [
    "%pip install -q openai\n",
    "from openai import OpenAI\n",
    "client = OpenAI()\n",
    "model = \"gpt-4.1\""
   ]
  },
  {
   "cell_type": "markdown",
   "id": "5d0b904e",
   "metadata": {},
   "source": [
    "## Ask an LLM to check if code is secure"
   ]
  },
  {
   "cell_type": "code",
   "execution_count": 10,
   "id": "3f139178",
   "metadata": {},
   "outputs": [
    {
     "name": "stdout",
     "output_type": "stream",
     "text": [
      "Let's review your code:\n",
      "\n",
      "```javascript\n",
      "console.log(\"Hello Patrick\");\n",
      "```\n",
      "\n",
      "**Security Analysis:**\n",
      "\n",
      "- This code simply prints the string \"Hello Patrick\" to the console.\n",
      "- There are **no user inputs**, **no external data**, and **no dynamic code execution**.\n",
      "- There are **no side effects** other than writing to the console.\n",
      "- There is **no exposure to XSS, injection, or other common vulnerabilities**.\n",
      "\n",
      "**Conclusion:**  \n",
      "This code is **completely secure** as written. There are no security risks in this snippet.\n",
      "\n",
      "If you have a more complex code or are concerned about a specific context (e.g., running in a web server, handling user input), please provide more details!\n"
     ]
    }
   ],
   "source": [
    "existing_code = \"\"\"\n",
    "console.log(\"Hello Patrick\");\n",
    "\"\"\"\n",
    "\n",
    "completion = client.chat.completions.create(model=model, temperature=0,\n",
    "    messages=[\n",
    "        {\n",
    "            \"role\": \"user\",\n",
    "            \"content\": f\"Check if this code is secure :\\n\\n{existing_code}\\n\\n\"\n",
    "        }\n",
    "    ]\n",
    ")\n",
    "\n",
    "result =   completion.choices[0].message.content\n",
    "print(result)\n"
   ]
  },
  {
   "cell_type": "markdown",
   "id": "bfc91ed2",
   "metadata": {},
   "source": [
    "## Setup our own security scanner"
   ]
  },
  {
   "cell_type": "code",
   "execution_count": 11,
   "id": "61356629",
   "metadata": {},
   "outputs": [],
   "source": [
    "def security_scanner(code: str):\n",
    "    if \"patrick\" in code.lower():\n",
    "        return \"This code contains the word Patrick is therefore not safe.\"\n",
    "    else: \n",
    "        return \"This code is safe.\""
   ]
  },
  {
   "cell_type": "markdown",
   "id": "1a272cd1",
   "metadata": {},
   "source": [
    "## Define the function schema"
   ]
  },
  {
   "cell_type": "code",
   "execution_count": 12,
   "id": "29604692",
   "metadata": {},
   "outputs": [],
   "source": [
    "tools = [{\n",
    "    \"type\": \"function\",\n",
    "    \"function\": {\n",
    "        \"name\": \"security_scanner\",\n",
    "        \"description\": \"Checks if the provided code is secure.\",\n",
    "        \"parameters\": {\n",
    "            \"type\": \"object\",\n",
    "            \"properties\": {\n",
    "                \"code\": {\n",
    "                    \"type\": \"string\",\n",
    "                    \"description\": \"The code to be analyzed for security vulnerabilities.\"\n",
    "                },\n",
    "\n",
    "            },\n",
    "            \"required\": [\"code\"],\n",
    "            \"additionalProperties\": False,\n",
    "        },\n",
    "        \"strict\": True # Enforce strict schema validation\n",
    "    }\n",
    "}]"
   ]
  },
  {
   "cell_type": "markdown",
   "id": "e5c0c032",
   "metadata": {},
   "source": [
    "## Launch our request"
   ]
  },
  {
   "cell_type": "code",
   "execution_count": 13,
   "id": "78454879",
   "metadata": {},
   "outputs": [
    {
     "name": "stdout",
     "output_type": "stream",
     "text": [
      "Response:\n",
      "[ChatCompletionMessageToolCall(id='call_2lYe2B4k4fCQVnfsoXNzVgXK', function=Function(arguments='{\"code\":\"console.log(\\\\\"Hello Patrick\\\\\");\"}', name='security_scanner'), type='function')]\n",
      "None\n"
     ]
    }
   ],
   "source": [
    "question = \"Make sure the following code is secure and only use the information we provide to determine that: \"+existing_code\n",
    "\n",
    "messages = [{\"role\": \"user\", \"content\": question}]\n",
    "\n",
    "completion = client.chat.completions.create(model=model,\n",
    "    messages=messages,\n",
    "    tools=tools,\n",
    ")\n",
    "\n",
    "print(\"Response:\")\n",
    "\n",
    "print(completion.choices[0].message.tool_calls)\n",
    "print(completion.choices[0].message.content)"
   ]
  },
  {
   "cell_type": "markdown",
   "id": "f1bfc6b2",
   "metadata": {},
   "source": [
    "## Execute the function call"
   ]
  },
  {
   "cell_type": "code",
   "execution_count": 14,
   "id": "37c57924",
   "metadata": {},
   "outputs": [
    {
     "name": "stdout",
     "output_type": "stream",
     "text": [
      "Security Scanner Result:\n",
      "This code contains the word Patrick is therefore not safe.\n"
     ]
    }
   ],
   "source": [
    "import json\n",
    "tool_call = completion.choices[0].message.tool_calls[0]\n",
    "args = json.loads(tool_call.function.arguments)\n",
    "\n",
    "result = security_scanner(args[\"code\"])\n",
    "print(\"Security Scanner Result:\")\n",
    "print(result)"
   ]
  },
  {
   "cell_type": "markdown",
   "id": "a5d1cf99",
   "metadata": {},
   "source": [
    "## Append them to the prompt request"
   ]
  },
  {
   "cell_type": "code",
   "execution_count": 15,
   "id": "9606517d",
   "metadata": {},
   "outputs": [
    {
     "name": "stdout",
     "output_type": "stream",
     "text": [
      "{'role': 'user', 'content': 'Make sure the following code is secure and only use the information we provide to determine that: \\nconsole.log(\"Hello Patrick\");\\n'}\n",
      "--------------------\n",
      "ChatCompletionMessage(content=None, refusal=None, role='assistant', annotations=[], audio=None, function_call=None, tool_calls=[ChatCompletionMessageToolCall(id='call_2lYe2B4k4fCQVnfsoXNzVgXK', function=Function(arguments='{\"code\":\"console.log(\\\\\"Hello Patrick\\\\\");\"}', name='security_scanner'), type='function')])\n",
      "--------------------\n",
      "{'role': 'tool', 'tool_call_id': 'call_2lYe2B4k4fCQVnfsoXNzVgXK', 'content': 'This code contains the word Patrick is therefore not safe.'}\n",
      "--------------------\n"
     ]
    }
   ],
   "source": [
    "messages.append(completion.choices[0].message)  # append model's function call message\n",
    "messages.append({                               # append result message\n",
    "    \"role\": \"tool\",\n",
    "    \"tool_call_id\": tool_call.id,\n",
    "    \"content\": str(result)\n",
    "})\n",
    "for message in messages:\n",
    "    print(message)\n",
    "    print(\"-\" * 20)"
   ]
  },
  {
   "cell_type": "markdown",
   "id": "53092677",
   "metadata": {},
   "source": [
    "## Ask for a new answer"
   ]
  },
  {
   "cell_type": "code",
   "execution_count": 16,
   "id": "85be83bb",
   "metadata": {},
   "outputs": [
    {
     "name": "stdout",
     "output_type": "stream",
     "text": [
      "Response:\n",
      "Based on the information and analysis provided, the code console.log(\"Hello Patrick\"); is considered not safe because it contains the word \"Patrick\". No further security concerns are evident from the code itself, but the presence of \"Patrick\" in the output is flagged as a security issue according to the given criteria.\n"
     ]
    }
   ],
   "source": [
    "completion_2 = client.chat.completions.create(\n",
    "    model=\"gpt-4.1\",\n",
    "    messages=messages,\n",
    "    tools=tools,\n",
    ")\n",
    "print(\"Response:\")\n",
    "print(completion_2.choices[0].message.content)"
   ]
  }
 ],
 "metadata": {
  "kernelspec": {
   "display_name": ".venv",
   "language": "python",
   "name": "python3"
  },
  "language_info": {
   "codemirror_mode": {
    "name": "ipython",
    "version": 3
   },
   "file_extension": ".py",
   "mimetype": "text/x-python",
   "name": "python",
   "nbconvert_exporter": "python",
   "pygments_lexer": "ipython3",
   "version": "3.13.0"
  }
 },
 "nbformat": 4,
 "nbformat_minor": 5
}
